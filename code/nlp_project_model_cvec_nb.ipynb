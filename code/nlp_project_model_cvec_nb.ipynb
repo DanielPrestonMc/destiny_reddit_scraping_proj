{
 "cells": [
  {
   "cell_type": "markdown",
   "id": "residential-employment",
   "metadata": {},
   "source": [
    "# **Project #3: Reddit NLP - CVEC/NB Model\n",
    "### DestinyTheGame vs. raidsecrets\n",
    "*By Daniel Preston McBride*"
   ]
  },
  {
   "cell_type": "code",
   "execution_count": 1,
   "id": "threatened-sewing",
   "metadata": {},
   "outputs": [],
   "source": [
    "import numpy as np\n",
    "import pandas as pd\n",
    "import matplotlib.pyplot as plt\n",
    "import seaborn as sns\n",
    "import requests\n",
    "import datetime\n",
    "import time\n",
    "\n",
    "from sklearn.model_selection import GridSearchCV, train_test_split, cross_val_score\n",
    "from sklearn.metrics import plot_confusion_matrix, confusion_matrix\n",
    "from sklearn.neighbors import KNeighborsClassifier\n",
    "from sklearn.feature_extraction.text import CountVectorizer, TfidfVectorizer\n",
    "from sklearn.naive_bayes import MultinomialNB\n",
    "from sklearn.pipeline import Pipeline"
   ]
  },
  {
   "cell_type": "code",
   "execution_count": 2,
   "id": "alleged-stone",
   "metadata": {},
   "outputs": [
    {
     "name": "stdout",
     "output_type": "stream",
     "text": [
      "<class 'pandas.core.frame.DataFrame'>\n",
      "RangeIndex: 3838 entries, 0 to 3837\n",
      "Data columns (total 3 columns):\n",
      " #   Column     Non-Null Count  Dtype \n",
      "---  ------     --------------  ----- \n",
      " 0   subreddit  3838 non-null   int64 \n",
      " 1   title      3838 non-null   object\n",
      " 2   selftext   3838 non-null   object\n",
      "dtypes: int64(1), object(2)\n",
      "memory usage: 90.1+ KB\n"
     ]
    }
   ],
   "source": [
    "reddit = pd.read_csv('../data/reddit_data.csv')\n",
    "reddit.info()"
   ]
  },
  {
   "cell_type": "markdown",
   "id": "stunning-embassy",
   "metadata": {},
   "source": [
    "---\n",
    "### Fitting X and y on train test split"
   ]
  },
  {
   "cell_type": "code",
   "execution_count": 3,
   "id": "saving-carroll",
   "metadata": {},
   "outputs": [],
   "source": [
    "X = reddit['selftext']\n",
    "y = reddit['subreddit']"
   ]
  },
  {
   "cell_type": "code",
   "execution_count": 4,
   "id": "satellite-chancellor",
   "metadata": {},
   "outputs": [],
   "source": [
    "X_train, X_test, y_train, y_test = train_test_split(X, y, test_size=0.3, random_state=42, stratify=y)"
   ]
  },
  {
   "cell_type": "markdown",
   "id": "demographic-teddy",
   "metadata": {},
   "source": [
    "---\n",
    "### Creating pipeline with transformer and estimater.  Passing the pipeline with designated hyperparameters through gridsearchCV.  Utilized an appending DataFrame to compare adjustments to hyperparameters for each model ran.\n",
    "*Referenced from 6.03-lesson-random-forest*"
   ]
  },
  {
   "cell_type": "code",
   "execution_count": 5,
   "id": "decent-ontario",
   "metadata": {},
   "outputs": [],
   "source": [
    "count = 0\n",
    "model_params = {}"
   ]
  },
  {
   "cell_type": "code",
   "execution_count": 13,
   "id": "swiss-annual",
   "metadata": {},
   "outputs": [
    {
     "name": "stdout",
     "output_type": "stream",
     "text": [
      "Fitting 5 folds for each of 4 candidates, totalling 20 fits\n"
     ]
    },
    {
     "data": {
      "text/html": [
       "<div>\n",
       "<style scoped>\n",
       "    .dataframe tbody tr th:only-of-type {\n",
       "        vertical-align: middle;\n",
       "    }\n",
       "\n",
       "    .dataframe tbody tr th {\n",
       "        vertical-align: top;\n",
       "    }\n",
       "\n",
       "    .dataframe thead th {\n",
       "        text-align: right;\n",
       "    }\n",
       "</style>\n",
       "<table border=\"1\" class=\"dataframe\">\n",
       "  <thead>\n",
       "    <tr style=\"text-align: right;\">\n",
       "      <th></th>\n",
       "      <th>cvec__max_df</th>\n",
       "      <th>cvec__max_features</th>\n",
       "      <th>cvec__min_df</th>\n",
       "      <th>cvec__ngram_range</th>\n",
       "      <th>cvec__stop_words</th>\n",
       "      <th>best_score</th>\n",
       "      <th>train_score</th>\n",
       "      <th>test_score</th>\n",
       "    </tr>\n",
       "  </thead>\n",
       "  <tbody>\n",
       "    <tr>\n",
       "      <th>model_1</th>\n",
       "      <td>0.83</td>\n",
       "      <td>2750</td>\n",
       "      <td>5</td>\n",
       "      <td>(1, 2)</td>\n",
       "      <td>english</td>\n",
       "      <td>0.811985</td>\n",
       "      <td>0.838794</td>\n",
       "      <td>0.801215</td>\n",
       "    </tr>\n",
       "    <tr>\n",
       "      <th>model_2</th>\n",
       "      <td>0.80</td>\n",
       "      <td>3000</td>\n",
       "      <td>5</td>\n",
       "      <td>(1, 3)</td>\n",
       "      <td>english</td>\n",
       "      <td>0.813100</td>\n",
       "      <td>0.838421</td>\n",
       "      <td>0.802083</td>\n",
       "    </tr>\n",
       "    <tr>\n",
       "      <th>model_3</th>\n",
       "      <td>0.80</td>\n",
       "      <td>3000</td>\n",
       "      <td>5</td>\n",
       "      <td>(1, 4)</td>\n",
       "      <td>english</td>\n",
       "      <td>0.813843</td>\n",
       "      <td>0.838794</td>\n",
       "      <td>0.801215</td>\n",
       "    </tr>\n",
       "    <tr>\n",
       "      <th>model_4</th>\n",
       "      <td>0.82</td>\n",
       "      <td>3000</td>\n",
       "      <td>5</td>\n",
       "      <td>(1, 4)</td>\n",
       "      <td>english</td>\n",
       "      <td>0.813843</td>\n",
       "      <td>0.838794</td>\n",
       "      <td>0.801215</td>\n",
       "    </tr>\n",
       "    <tr>\n",
       "      <th>model_5</th>\n",
       "      <td>0.82</td>\n",
       "      <td>3000</td>\n",
       "      <td>5</td>\n",
       "      <td>(1, 4)</td>\n",
       "      <td>english</td>\n",
       "      <td>0.813843</td>\n",
       "      <td>0.838794</td>\n",
       "      <td>0.801215</td>\n",
       "    </tr>\n",
       "    <tr>\n",
       "      <th>model_6</th>\n",
       "      <td>0.82</td>\n",
       "      <td>3000</td>\n",
       "      <td>5</td>\n",
       "      <td>(1, 4)</td>\n",
       "      <td>english</td>\n",
       "      <td>0.813843</td>\n",
       "      <td>0.838794</td>\n",
       "      <td>0.801215</td>\n",
       "    </tr>\n",
       "  </tbody>\n",
       "</table>\n",
       "</div>"
      ],
      "text/plain": [
       "         cvec__max_df  cvec__max_features  cvec__min_df cvec__ngram_range  \\\n",
       "model_1          0.83                2750             5            (1, 2)   \n",
       "model_2          0.80                3000             5            (1, 3)   \n",
       "model_3          0.80                3000             5            (1, 4)   \n",
       "model_4          0.82                3000             5            (1, 4)   \n",
       "model_5          0.82                3000             5            (1, 4)   \n",
       "model_6          0.82                3000             5            (1, 4)   \n",
       "\n",
       "        cvec__stop_words  best_score  train_score  test_score  \n",
       "model_1          english    0.811985     0.838794    0.801215  \n",
       "model_2          english    0.813100     0.838421    0.802083  \n",
       "model_3          english    0.813843     0.838794    0.801215  \n",
       "model_4          english    0.813843     0.838794    0.801215  \n",
       "model_5          english    0.813843     0.838794    0.801215  \n",
       "model_6          english    0.813843     0.838794    0.801215  "
      ]
     },
     "execution_count": 13,
     "metadata": {},
     "output_type": "execute_result"
    }
   ],
   "source": [
    "count = count\n",
    "model_params = model_params\n",
    "\n",
    "pipe = Pipeline([\n",
    "    ('cvec', CountVectorizer()),\n",
    "    ('nb', MultinomialNB())\n",
    "])\n",
    "\n",
    "params = {\n",
    "    'cvec__stop_words': ['english'],\n",
    "    'cvec__ngram_range': [(1,4)],\n",
    "    'cvec__max_features': [3000],\n",
    "    'cvec__max_df': [0.82],\n",
    "    'cvec__min_df': [5]\n",
    "}\n",
    "\n",
    "gs = GridSearchCV(estimator=pipe,\n",
    "                 param_grid=params,\n",
    "                 cv=5,\n",
    "                 verbose=1)\n",
    "\n",
    "gs.fit(X_train, y_train)\n",
    "\n",
    "count += 1\n",
    "\n",
    "gs.best_params_['best_score'] = gs.best_score_\n",
    "gs.best_params_['train_score'] = gs.score(X_train, y_train)\n",
    "gs.best_params_['test_score'] = gs.score(X_test, y_test)\n",
    "model_params[f'model_{count}'] = gs.best_params_\n",
    "\n",
    "model_df = pd.DataFrame.from_dict(model_params, orient='index')\n",
    "model_df"
   ]
  },
  {
   "cell_type": "code",
   "execution_count": 17,
   "id": "musical-fabric",
   "metadata": {},
   "outputs": [
    {
     "data": {
      "text/plain": [
       "{'cvec__max_df': 0.82,\n",
       " 'cvec__max_features': 3000,\n",
       " 'cvec__min_df': 5,\n",
       " 'cvec__ngram_range': (1, 4),\n",
       " 'cvec__stop_words': 'english',\n",
       " 'best_score': 0.8138432569763175,\n",
       " 'train_score': 0.8387937453462397,\n",
       " 'test_score': 0.8012152777777778}"
      ]
     },
     "execution_count": 17,
     "metadata": {},
     "output_type": "execute_result"
    }
   ],
   "source": [
    "gs.best_params_"
   ]
  },
  {
   "cell_type": "markdown",
   "id": "distributed-catholic",
   "metadata": {},
   "source": [
    "---\n",
    "### Checking scores against the baseline score; Visualizing probability metrics with confusion matrix"
   ]
  },
  {
   "cell_type": "code",
   "execution_count": 7,
   "id": "canadian-publisher",
   "metadata": {},
   "outputs": [
    {
     "data": {
      "text/plain": [
       "1    0.505732\n",
       "0    0.494268\n",
       "Name: subreddit, dtype: float64"
      ]
     },
     "execution_count": 7,
     "metadata": {},
     "output_type": "execute_result"
    }
   ],
   "source": [
    "y.value_counts(normalize=True)"
   ]
  },
  {
   "cell_type": "code",
   "execution_count": 16,
   "id": "alive-latter",
   "metadata": {},
   "outputs": [
    {
     "data": {
      "image/png": "[encoded data removed]",
      "text/plain": [
       "<Figure size 432x288 with 2 Axes>"
      ]
     },
     "metadata": {
      "needs_background": "light"
     },
     "output_type": "display_data"
    }
   ],
   "source": [
    "plot_confusion_matrix(gs, X_test, y_test);"
   ]
  },
  {
   "cell_type": "code",
   "execution_count": null,
   "id": "expected-glance",
   "metadata": {},
   "outputs": [],
   "source": []
  }
 ],
 "metadata": {
  "kernelspec": {
   "display_name": "Python 3",
   "language": "python",
   "name": "python3"
  },
  "language_info": {
   "codemirror_mode": {
    "name": "ipython",
    "version": 3
   },
   "file_extension": ".py",
   "mimetype": "text/x-python",
   "name": "python",
   "nbconvert_exporter": "python",
   "pygments_lexer": "ipython3",
   "version": "3.8.8"
  }
 },
 "nbformat": 4,
 "nbformat_minor": 5
}
