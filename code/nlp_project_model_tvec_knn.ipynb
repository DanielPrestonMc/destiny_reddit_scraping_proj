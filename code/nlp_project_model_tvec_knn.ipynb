{
 "cells": [
  {
   "cell_type": "markdown",
   "id": "checked-publication",
   "metadata": {},
   "source": [
    "# **Project #3: Reddit NLP - TVEC/KNN Model\n",
    "### DestinyTheGame vs. raidsecrets\n",
    "*By Daniel Preston McBride*"
   ]
  },
  {
   "cell_type": "code",
   "execution_count": 1,
   "id": "modular-bubble",
   "metadata": {},
   "outputs": [],
   "source": [
    "import numpy as np\n",
    "import pandas as pd\n",
    "import matplotlib.pyplot as plt\n",
    "import seaborn as sns\n",
    "import requests\n",
    "import datetime\n",
    "import time\n",
    "\n",
    "from sklearn.model_selection import GridSearchCV, train_test_split, cross_val_score\n",
    "from sklearn.metrics import plot_confusion_matrix, confusion_matrix\n",
    "from sklearn.neighbors import KNeighborsClassifier\n",
    "from sklearn.feature_extraction.text import CountVectorizer, TfidfVectorizer\n",
    "from sklearn.naive_bayes import MultinomialNB\n",
    "from sklearn.pipeline import Pipeline\n",
    "from sklearn.preprocessing import StandardScaler"
   ]
  },
  {
   "cell_type": "code",
   "execution_count": 2,
   "id": "offshore-diploma",
   "metadata": {},
   "outputs": [
    {
     "name": "stdout",
     "output_type": "stream",
     "text": [
      "<class 'pandas.core.frame.DataFrame'>\n",
      "RangeIndex: 3838 entries, 0 to 3837\n",
      "Data columns (total 3 columns):\n",
      " #   Column     Non-Null Count  Dtype \n",
      "---  ------     --------------  ----- \n",
      " 0   subreddit  3838 non-null   int64 \n",
      " 1   title      3838 non-null   object\n",
      " 2   selftext   3838 non-null   object\n",
      "dtypes: int64(1), object(2)\n",
      "memory usage: 90.1+ KB\n"
     ]
    }
   ],
   "source": [
    "reddit = pd.read_csv('../data/reddit_data.csv')\n",
    "reddit.info()"
   ]
  },
  {
   "cell_type": "markdown",
   "id": "referenced-stupid",
   "metadata": {},
   "source": [
    "---\n",
    "### Fitting X and y on train test split"
   ]
  },
  {
   "cell_type": "code",
   "execution_count": 3,
   "id": "fundamental-train",
   "metadata": {},
   "outputs": [],
   "source": [
    "X = reddit['selftext']\n",
    "y = reddit['subreddit']"
   ]
  },
  {
   "cell_type": "code",
   "execution_count": 4,
   "id": "curious-iraqi",
   "metadata": {},
   "outputs": [],
   "source": [
    "X_train, X_test, y_train, y_test = train_test_split(X, y, test_size=0.3, random_state=42, stratify=y)"
   ]
  },
  {
   "cell_type": "markdown",
   "id": "exclusive-lawrence",
   "metadata": {},
   "source": [
    "---\n",
    "### Creating pipeline with transformer and estimater.  Passing the pipeline with designated hyperparameters through gridsearchCV.  Utilized an appending DataFrame to compare adjustments to hyperparameters for each model ran.\n",
    "*Referenced from 6.03-lesson-random-forest*"
   ]
  },
  {
   "cell_type": "code",
   "execution_count": 5,
   "id": "awful-cedar",
   "metadata": {},
   "outputs": [],
   "source": [
    "count = 0\n",
    "model_params = {}"
   ]
  },
  {
   "cell_type": "code",
   "execution_count": 16,
   "id": "signed-conjunction",
   "metadata": {},
   "outputs": [
    {
     "name": "stdout",
     "output_type": "stream",
     "text": [
      "Fitting 5 folds for each of 6 candidates, totalling 30 fits\n"
     ]
    },
    {
     "data": {
      "text/html": [
       "<div>\n",
       "<style scoped>\n",
       "    .dataframe tbody tr th:only-of-type {\n",
       "        vertical-align: middle;\n",
       "    }\n",
       "\n",
       "    .dataframe tbody tr th {\n",
       "        vertical-align: top;\n",
       "    }\n",
       "\n",
       "    .dataframe thead th {\n",
       "        text-align: right;\n",
       "    }\n",
       "</style>\n",
       "<table border=\"1\" class=\"dataframe\">\n",
       "  <thead>\n",
       "    <tr style=\"text-align: right;\">\n",
       "      <th></th>\n",
       "      <th>knn__n_neighbors</th>\n",
       "      <th>tvec__max_df</th>\n",
       "      <th>tvec__max_features</th>\n",
       "      <th>tvec__min_df</th>\n",
       "      <th>tvec__ngram_range</th>\n",
       "      <th>tvec__stop_words</th>\n",
       "      <th>best_score</th>\n",
       "      <th>train_score</th>\n",
       "      <th>test_score</th>\n",
       "    </tr>\n",
       "  </thead>\n",
       "  <tbody>\n",
       "    <tr>\n",
       "      <th>model_1</th>\n",
       "      <td>15</td>\n",
       "      <td>0.7</td>\n",
       "      <td>3300</td>\n",
       "      <td>4</td>\n",
       "      <td>(1, 2)</td>\n",
       "      <td>None</td>\n",
       "      <td>0.669779</td>\n",
       "      <td>0.650410</td>\n",
       "      <td>0.631076</td>\n",
       "    </tr>\n",
       "    <tr>\n",
       "      <th>model_2</th>\n",
       "      <td>20</td>\n",
       "      <td>0.7</td>\n",
       "      <td>2500</td>\n",
       "      <td>4</td>\n",
       "      <td>(1, 2)</td>\n",
       "      <td>None</td>\n",
       "      <td>0.727484</td>\n",
       "      <td>0.650037</td>\n",
       "      <td>0.631944</td>\n",
       "    </tr>\n",
       "    <tr>\n",
       "      <th>model_3</th>\n",
       "      <td>40</td>\n",
       "      <td>0.7</td>\n",
       "      <td>2500</td>\n",
       "      <td>4</td>\n",
       "      <td>(1, 2)</td>\n",
       "      <td>None</td>\n",
       "      <td>0.782205</td>\n",
       "      <td>0.779970</td>\n",
       "      <td>0.760417</td>\n",
       "    </tr>\n",
       "    <tr>\n",
       "      <th>model_4</th>\n",
       "      <td>100</td>\n",
       "      <td>0.7</td>\n",
       "      <td>2500</td>\n",
       "      <td>3</td>\n",
       "      <td>(1, 3)</td>\n",
       "      <td>None</td>\n",
       "      <td>0.795981</td>\n",
       "      <td>0.792628</td>\n",
       "      <td>0.781250</td>\n",
       "    </tr>\n",
       "    <tr>\n",
       "      <th>model_5</th>\n",
       "      <td>100</td>\n",
       "      <td>0.7</td>\n",
       "      <td>2500</td>\n",
       "      <td>3</td>\n",
       "      <td>(1, 3)</td>\n",
       "      <td>None</td>\n",
       "      <td>0.795981</td>\n",
       "      <td>0.792628</td>\n",
       "      <td>0.781250</td>\n",
       "    </tr>\n",
       "    <tr>\n",
       "      <th>model_6</th>\n",
       "      <td>100</td>\n",
       "      <td>0.7</td>\n",
       "      <td>2500</td>\n",
       "      <td>3</td>\n",
       "      <td>(1, 3)</td>\n",
       "      <td>None</td>\n",
       "      <td>0.795981</td>\n",
       "      <td>0.792628</td>\n",
       "      <td>0.781250</td>\n",
       "    </tr>\n",
       "    <tr>\n",
       "      <th>model_7</th>\n",
       "      <td>100</td>\n",
       "      <td>0.7</td>\n",
       "      <td>2500</td>\n",
       "      <td>3</td>\n",
       "      <td>(1, 3)</td>\n",
       "      <td>None</td>\n",
       "      <td>0.795981</td>\n",
       "      <td>0.792628</td>\n",
       "      <td>0.781250</td>\n",
       "    </tr>\n",
       "    <tr>\n",
       "      <th>model_8</th>\n",
       "      <td>100</td>\n",
       "      <td>0.7</td>\n",
       "      <td>2500</td>\n",
       "      <td>3</td>\n",
       "      <td>(1, 3)</td>\n",
       "      <td>None</td>\n",
       "      <td>0.795981</td>\n",
       "      <td>0.792628</td>\n",
       "      <td>0.781250</td>\n",
       "    </tr>\n",
       "  </tbody>\n",
       "</table>\n",
       "</div>"
      ],
      "text/plain": [
       "         knn__n_neighbors  tvec__max_df  tvec__max_features  tvec__min_df  \\\n",
       "model_1                15           0.7                3300             4   \n",
       "model_2                20           0.7                2500             4   \n",
       "model_3                40           0.7                2500             4   \n",
       "model_4               100           0.7                2500             3   \n",
       "model_5               100           0.7                2500             3   \n",
       "model_6               100           0.7                2500             3   \n",
       "model_7               100           0.7                2500             3   \n",
       "model_8               100           0.7                2500             3   \n",
       "\n",
       "        tvec__ngram_range tvec__stop_words  best_score  train_score  \\\n",
       "model_1            (1, 2)             None    0.669779     0.650410   \n",
       "model_2            (1, 2)             None    0.727484     0.650037   \n",
       "model_3            (1, 2)             None    0.782205     0.779970   \n",
       "model_4            (1, 3)             None    0.795981     0.792628   \n",
       "model_5            (1, 3)             None    0.795981     0.792628   \n",
       "model_6            (1, 3)             None    0.795981     0.792628   \n",
       "model_7            (1, 3)             None    0.795981     0.792628   \n",
       "model_8            (1, 3)             None    0.795981     0.792628   \n",
       "\n",
       "         test_score  \n",
       "model_1    0.631076  \n",
       "model_2    0.631944  \n",
       "model_3    0.760417  \n",
       "model_4    0.781250  \n",
       "model_5    0.781250  \n",
       "model_6    0.781250  \n",
       "model_7    0.781250  \n",
       "model_8    0.781250  "
      ]
     },
     "execution_count": 16,
     "metadata": {},
     "output_type": "execute_result"
    }
   ],
   "source": [
    "count = count\n",
    "model_params = model_params\n",
    "\n",
    "pipe = Pipeline([\n",
    "    ('tvec', TfidfVectorizer()),\n",
    "    ('knn', KNeighborsClassifier())\n",
    "])\n",
    "\n",
    "params = {\n",
    "    'tvec__stop_words': [None],\n",
    "    'tvec__ngram_range': [(1,3)],\n",
    "    'tvec__max_features': [2500],\n",
    "    'tvec__max_df': [0.7],\n",
    "    'tvec__min_df': [3],\n",
    "    'knn__n_neighbors': [100]\n",
    "}\n",
    "\n",
    "gs = GridSearchCV(estimator=pipe,\n",
    "                 param_grid=params,\n",
    "                 cv=5,\n",
    "                 verbose=1)\n",
    "\n",
    "gs.fit(X_train, y_train)\n",
    "\n",
    "count += 1\n",
    "\n",
    "gs.best_params_['best_score'] = gs.best_score_\n",
    "gs.best_params_['train_score'] = gs.score(X_train, y_train)\n",
    "gs.best_params_['test_score'] = gs.score(X_test, y_test)\n",
    "model_params[f'model_{count}'] = gs.best_params_\n",
    "\n",
    "model_df = pd.DataFrame.from_dict(model_params, orient='index')\n",
    "model_df"
   ]
  },
  {
   "cell_type": "markdown",
   "id": "unknown-merit",
   "metadata": {},
   "source": [
    "---\n",
    "### Checking scores against the baseline score; Visualizing probability metrics with confusion matrix"
   ]
  },
  {
   "cell_type": "code",
   "execution_count": 7,
   "id": "compatible-percentage",
   "metadata": {},
   "outputs": [
    {
     "data": {
      "text/plain": [
       "1    0.505732\n",
       "0    0.494268\n",
       "Name: subreddit, dtype: float64"
      ]
     },
     "execution_count": 7,
     "metadata": {},
     "output_type": "execute_result"
    }
   ],
   "source": [
    "y.value_counts(normalize=True)"
   ]
  },
  {
   "cell_type": "code",
   "execution_count": 17,
   "id": "constant-arabic",
   "metadata": {},
   "outputs": [
    {
     "data": {
      "image/png": "[encoded data removed]",
      "text/plain": [
       "<Figure size 432x288 with 2 Axes>"
      ]
     },
     "metadata": {
      "needs_background": "light"
     },
     "output_type": "display_data"
    }
   ],
   "source": [
    "plot_confusion_matrix(gs, X_test, y_test);"
   ]
  },
  {
   "cell_type": "code",
   "execution_count": null,
   "id": "boxed-roller",
   "metadata": {},
   "outputs": [],
   "source": []
  }
 ],
 "metadata": {
  "kernelspec": {
   "display_name": "Python 3",
   "language": "python",
   "name": "python3"
  },
  "language_info": {
   "codemirror_mode": {
    "name": "ipython",
    "version": 3
   },
   "file_extension": ".py",
   "mimetype": "text/x-python",
   "name": "python",
   "nbconvert_exporter": "python",
   "pygments_lexer": "ipython3",
   "version": "3.8.8"
  }
 },
 "nbformat": 4,
 "nbformat_minor": 5
}
