{
 "cells": [
  {
   "cell_type": "markdown",
   "id": "competitive-cliff",
   "metadata": {},
   "source": [
    "# **Project #3: Reddit NLP - Data Scraping DestinyTheGame\n",
    "### DestinyTheGame vs. raidsecrets\n",
    "*By Daniel Preston McBride*"
   ]
  },
  {
   "cell_type": "code",
   "execution_count": 1,
   "id": "purple-charles",
   "metadata": {},
   "outputs": [],
   "source": [
    "import numpy as np\n",
    "import pandas as pd\n",
    "import matplotlib.pyplot as plt\n",
    "import seaborn as sns\n",
    "import requests\n",
    "import datetime\n",
    "import time\n",
    "\n",
    "from sklearn.model_selection import GridSearchCV, train_test_split\n",
    "from sklearn.metrics import plot_confusion_matrix\n",
    "from sklearn.neighbors import KNeighborsClassifier\n",
    "from bs4 import BeautifulSoup"
   ]
  },
  {
   "cell_type": "markdown",
   "id": "developing-dining",
   "metadata": {},
   "source": [
    "---\n",
    "### Accessing reddit data through pushshift API for DestinyTheGame subreddit"
   ]
  },
  {
   "cell_type": "code",
   "execution_count": 2,
   "id": "moving-possession",
   "metadata": {},
   "outputs": [],
   "source": [
    "url = 'https://api.pushshift.io/reddit/search/submission'"
   ]
  },
  {
   "cell_type": "code",
   "execution_count": 3,
   "id": "wireless-process",
   "metadata": {},
   "outputs": [],
   "source": [
    "params = {\n",
    "    'subreddit': 'destinythegame',\n",
    "    'size': 100\n",
    "}"
   ]
  },
  {
   "cell_type": "code",
   "execution_count": 4,
   "id": "desirable-concrete",
   "metadata": {},
   "outputs": [],
   "source": [
    "res = requests.get(url, params)"
   ]
  },
  {
   "cell_type": "code",
   "execution_count": 5,
   "id": "controlled-insulation",
   "metadata": {},
   "outputs": [
    {
     "data": {
      "text/plain": [
       "200"
      ]
     },
     "execution_count": 5,
     "metadata": {},
     "output_type": "execute_result"
    }
   ],
   "source": [
    "res.status_code"
   ]
  },
  {
   "cell_type": "code",
   "execution_count": 6,
   "id": "hawaiian-midwest",
   "metadata": {},
   "outputs": [],
   "source": [
    "data = res.json()"
   ]
  },
  {
   "cell_type": "code",
   "execution_count": 7,
   "id": "protective-dimension",
   "metadata": {},
   "outputs": [],
   "source": [
    "posts = data['data']"
   ]
  },
  {
   "cell_type": "code",
   "execution_count": 8,
   "id": "optical-programmer",
   "metadata": {},
   "outputs": [],
   "source": [
    "dest_reddit = pd.DataFrame(posts)"
   ]
  },
  {
   "cell_type": "code",
   "execution_count": 9,
   "id": "beneficial-navigator",
   "metadata": {},
   "outputs": [],
   "source": [
    "dest_reddit = dest_reddit[['subreddit','title','selftext','created_utc']]"
   ]
  },
  {
   "cell_type": "code",
   "execution_count": 10,
   "id": "japanese-delay",
   "metadata": {},
   "outputs": [
    {
     "name": "stdout",
     "output_type": "stream",
     "text": [
      "<class 'pandas.core.frame.DataFrame'>\n",
      "RangeIndex: 100 entries, 0 to 99\n",
      "Data columns (total 4 columns):\n",
      " #   Column       Non-Null Count  Dtype \n",
      "---  ------       --------------  ----- \n",
      " 0   subreddit    100 non-null    object\n",
      " 1   title        100 non-null    object\n",
      " 2   selftext     100 non-null    object\n",
      " 3   created_utc  100 non-null    int64 \n",
      "dtypes: int64(1), object(3)\n",
      "memory usage: 3.2+ KB\n"
     ]
    }
   ],
   "source": [
    "dest_reddit.info()"
   ]
  },
  {
   "cell_type": "code",
   "execution_count": 11,
   "id": "original-welding",
   "metadata": {},
   "outputs": [
    {
     "data": {
      "text/html": [
       "<div>\n",
       "<style scoped>\n",
       "    .dataframe tbody tr th:only-of-type {\n",
       "        vertical-align: middle;\n",
       "    }\n",
       "\n",
       "    .dataframe tbody tr th {\n",
       "        vertical-align: top;\n",
       "    }\n",
       "\n",
       "    .dataframe thead th {\n",
       "        text-align: right;\n",
       "    }\n",
       "</style>\n",
       "<table border=\"1\" class=\"dataframe\">\n",
       "  <thead>\n",
       "    <tr style=\"text-align: right;\">\n",
       "      <th></th>\n",
       "      <th>subreddit</th>\n",
       "      <th>title</th>\n",
       "      <th>selftext</th>\n",
       "      <th>created_utc</th>\n",
       "    </tr>\n",
       "  </thead>\n",
       "  <tbody>\n",
       "    <tr>\n",
       "      <th>0</th>\n",
       "      <td>DestinyTheGame</td>\n",
       "      <td>The infinite frostbite glitch in DSC has been ...</td>\n",
       "      <td>I hope you a[l](https://www.youtube.com/watch?...</td>\n",
       "      <td>1615996647</td>\n",
       "    </tr>\n",
       "    <tr>\n",
       "      <th>1</th>\n",
       "      <td>DestinyTheGame</td>\n",
       "      <td>Beyond Light Deluxe Edition weapon ornament fo...</td>\n",
       "      <td>My ornament wont unlock even though I have the...</td>\n",
       "      <td>1615996597</td>\n",
       "    </tr>\n",
       "    <tr>\n",
       "      <th>2</th>\n",
       "      <td>DestinyTheGame</td>\n",
       "      <td>Add the Class-Specific Swords as Rewards for G...</td>\n",
       "      <td>[removed]</td>\n",
       "      <td>1615996546</td>\n",
       "    </tr>\n",
       "    <tr>\n",
       "      <th>3</th>\n",
       "      <td>DestinyTheGame</td>\n",
       "      <td>The Collector's Edition Sword is Still Sunset.</td>\n",
       "      <td>Title. This is a problem, because it's a sword...</td>\n",
       "      <td>1615996218</td>\n",
       "    </tr>\n",
       "    <tr>\n",
       "      <th>4</th>\n",
       "      <td>DestinyTheGame</td>\n",
       "      <td>The Darkness or Savathûn might be influencing ...</td>\n",
       "      <td>After seeing the arguement at the Helm this re...</td>\n",
       "      <td>1615996158</td>\n",
       "    </tr>\n",
       "  </tbody>\n",
       "</table>\n",
       "</div>"
      ],
      "text/plain": [
       "        subreddit                                              title  \\\n",
       "0  DestinyTheGame  The infinite frostbite glitch in DSC has been ...   \n",
       "1  DestinyTheGame  Beyond Light Deluxe Edition weapon ornament fo...   \n",
       "2  DestinyTheGame  Add the Class-Specific Swords as Rewards for G...   \n",
       "3  DestinyTheGame     The Collector's Edition Sword is Still Sunset.   \n",
       "4  DestinyTheGame  The Darkness or Savathûn might be influencing ...   \n",
       "\n",
       "                                            selftext  created_utc  \n",
       "0  I hope you a[l](https://www.youtube.com/watch?...   1615996647  \n",
       "1  My ornament wont unlock even though I have the...   1615996597  \n",
       "2                                          [removed]   1615996546  \n",
       "3  Title. This is a problem, because it's a sword...   1615996218  \n",
       "4  After seeing the arguement at the Helm this re...   1615996158  "
      ]
     },
     "execution_count": 11,
     "metadata": {},
     "output_type": "execute_result"
    }
   ],
   "source": [
    "dest_reddit.head()"
   ]
  },
  {
   "cell_type": "code",
   "execution_count": 12,
   "id": "incredible-pickup",
   "metadata": {},
   "outputs": [
    {
     "data": {
      "text/plain": [
       "100"
      ]
     },
     "execution_count": 12,
     "metadata": {},
     "output_type": "execute_result"
    }
   ],
   "source": [
    "dest_reddit.shape[0]"
   ]
  },
  {
   "cell_type": "markdown",
   "id": "sunrise-nothing",
   "metadata": {},
   "source": [
    "---\n",
    "### Created while loop to pull 100 posts every 5 seconds from the subreddit.  Accessed next older posts by utilizing the `before` hyperparameter on the `created_utc` timestamp column."
   ]
  },
  {
   "cell_type": "code",
   "execution_count": 13,
   "id": "molecular-former",
   "metadata": {},
   "outputs": [],
   "source": [
    "while dest_reddit.shape[0] < 2000:\n",
    "    time.sleep(5)\n",
    "\n",
    "    params = {\n",
    "        'subreddit': 'destinythegame',\n",
    "        'size': 100,\n",
    "        'before': dest_reddit['created_utc'].values[-1]\n",
    "    }\n",
    "\n",
    "    res = requests.get(url, params)\n",
    "    data = res.json()\n",
    "    posts = data['data']\n",
    "    df = pd.DataFrame(posts)\n",
    "    df = df[['subreddit','title','selftext','created_utc']]\n",
    "    dest_reddit = pd.concat([dest_reddit, df])"
   ]
  },
  {
   "cell_type": "code",
   "execution_count": 14,
   "id": "premium-toner",
   "metadata": {},
   "outputs": [
    {
     "data": {
      "text/plain": [
       "(2000, 4)"
      ]
     },
     "execution_count": 14,
     "metadata": {},
     "output_type": "execute_result"
    }
   ],
   "source": [
    "dest_reddit.shape"
   ]
  },
  {
   "cell_type": "markdown",
   "id": "liable-crash",
   "metadata": {},
   "source": [
    "---\n",
    "### Checked for duplicate rows"
   ]
  },
  {
   "cell_type": "code",
   "execution_count": 15,
   "id": "induced-sheet",
   "metadata": {},
   "outputs": [
    {
     "data": {
      "text/html": [
       "<div>\n",
       "<style scoped>\n",
       "    .dataframe tbody tr th:only-of-type {\n",
       "        vertical-align: middle;\n",
       "    }\n",
       "\n",
       "    .dataframe tbody tr th {\n",
       "        vertical-align: top;\n",
       "    }\n",
       "\n",
       "    .dataframe thead th {\n",
       "        text-align: right;\n",
       "    }\n",
       "</style>\n",
       "<table border=\"1\" class=\"dataframe\">\n",
       "  <thead>\n",
       "    <tr style=\"text-align: right;\">\n",
       "      <th></th>\n",
       "      <th>subreddit</th>\n",
       "      <th>title</th>\n",
       "      <th>selftext</th>\n",
       "      <th>created_utc</th>\n",
       "    </tr>\n",
       "  </thead>\n",
       "  <tbody>\n",
       "  </tbody>\n",
       "</table>\n",
       "</div>"
      ],
      "text/plain": [
       "Empty DataFrame\n",
       "Columns: [subreddit, title, selftext, created_utc]\n",
       "Index: []"
      ]
     },
     "execution_count": 15,
     "metadata": {},
     "output_type": "execute_result"
    }
   ],
   "source": [
    "dest_reddit[dest_reddit.duplicated()]"
   ]
  },
  {
   "cell_type": "markdown",
   "id": "healthy-proportion",
   "metadata": {},
   "source": [
    "---\n",
    "### Created new column with `created_utc` column converted to datetime to better understand the date/time difference between each post\n",
    "\n",
    "> *Referenced converting utc to datetime from: https://www.kite.com/python/answers/how-to-convert-epoch-time-to-datetime-in-python*"
   ]
  },
  {
   "cell_type": "code",
   "execution_count": 16,
   "id": "selected-biotechnology",
   "metadata": {},
   "outputs": [
    {
     "data": {
      "text/plain": [
       "0    2021-03-17 11:57:27\n",
       "1    2021-03-17 11:56:37\n",
       "2    2021-03-17 11:55:46\n",
       "3    2021-03-17 11:50:18\n",
       "4    2021-03-17 11:49:18\n",
       "             ...        \n",
       "95   2021-03-13 21:05:04\n",
       "96   2021-03-13 20:58:13\n",
       "97   2021-03-13 20:57:40\n",
       "98   2021-03-13 20:56:18\n",
       "99   2021-03-13 20:55:06\n",
       "Name: utc_to_datetime, Length: 2000, dtype: datetime64[ns]"
      ]
     },
     "execution_count": 16,
     "metadata": {},
     "output_type": "execute_result"
    }
   ],
   "source": [
    "dest_reddit['utc_to_datetime'] = [datetime.datetime.fromtimestamp(utc) for utc in dest_reddit['created_utc']]\n",
    "dest_reddit['utc_to_datetime']"
   ]
  },
  {
   "cell_type": "code",
   "execution_count": 17,
   "id": "pregnant-course",
   "metadata": {},
   "outputs": [
    {
     "name": "stdout",
     "output_type": "stream",
     "text": [
      "<class 'pandas.core.frame.DataFrame'>\n",
      "Int64Index: 2000 entries, 0 to 99\n",
      "Data columns (total 5 columns):\n",
      " #   Column           Non-Null Count  Dtype         \n",
      "---  ------           --------------  -----         \n",
      " 0   subreddit        2000 non-null   object        \n",
      " 1   title            2000 non-null   object        \n",
      " 2   selftext         1999 non-null   object        \n",
      " 3   created_utc      2000 non-null   int64         \n",
      " 4   utc_to_datetime  2000 non-null   datetime64[ns]\n",
      "dtypes: datetime64[ns](1), int64(1), object(3)\n",
      "memory usage: 93.8+ KB\n"
     ]
    }
   ],
   "source": [
    "dest_reddit.info()"
   ]
  },
  {
   "cell_type": "code",
   "execution_count": 18,
   "id": "literary-sapphire",
   "metadata": {},
   "outputs": [
    {
     "data": {
      "text/html": [
       "<div>\n",
       "<style scoped>\n",
       "    .dataframe tbody tr th:only-of-type {\n",
       "        vertical-align: middle;\n",
       "    }\n",
       "\n",
       "    .dataframe tbody tr th {\n",
       "        vertical-align: top;\n",
       "    }\n",
       "\n",
       "    .dataframe thead th {\n",
       "        text-align: right;\n",
       "    }\n",
       "</style>\n",
       "<table border=\"1\" class=\"dataframe\">\n",
       "  <thead>\n",
       "    <tr style=\"text-align: right;\">\n",
       "      <th></th>\n",
       "      <th>subreddit</th>\n",
       "      <th>title</th>\n",
       "      <th>selftext</th>\n",
       "      <th>created_utc</th>\n",
       "      <th>utc_to_datetime</th>\n",
       "    </tr>\n",
       "  </thead>\n",
       "  <tbody>\n",
       "    <tr>\n",
       "      <th>0</th>\n",
       "      <td>DestinyTheGame</td>\n",
       "      <td>The infinite frostbite glitch in DSC has been ...</td>\n",
       "      <td>I hope you a[l](https://www.youtube.com/watch?...</td>\n",
       "      <td>1615996647</td>\n",
       "      <td>2021-03-17 11:57:27</td>\n",
       "    </tr>\n",
       "    <tr>\n",
       "      <th>1</th>\n",
       "      <td>DestinyTheGame</td>\n",
       "      <td>Beyond Light Deluxe Edition weapon ornament fo...</td>\n",
       "      <td>My ornament wont unlock even though I have the...</td>\n",
       "      <td>1615996597</td>\n",
       "      <td>2021-03-17 11:56:37</td>\n",
       "    </tr>\n",
       "    <tr>\n",
       "      <th>2</th>\n",
       "      <td>DestinyTheGame</td>\n",
       "      <td>Add the Class-Specific Swords as Rewards for G...</td>\n",
       "      <td>[removed]</td>\n",
       "      <td>1615996546</td>\n",
       "      <td>2021-03-17 11:55:46</td>\n",
       "    </tr>\n",
       "    <tr>\n",
       "      <th>3</th>\n",
       "      <td>DestinyTheGame</td>\n",
       "      <td>The Collector's Edition Sword is Still Sunset.</td>\n",
       "      <td>Title. This is a problem, because it's a sword...</td>\n",
       "      <td>1615996218</td>\n",
       "      <td>2021-03-17 11:50:18</td>\n",
       "    </tr>\n",
       "    <tr>\n",
       "      <th>4</th>\n",
       "      <td>DestinyTheGame</td>\n",
       "      <td>The Darkness or Savathûn might be influencing ...</td>\n",
       "      <td>After seeing the arguement at the Helm this re...</td>\n",
       "      <td>1615996158</td>\n",
       "      <td>2021-03-17 11:49:18</td>\n",
       "    </tr>\n",
       "    <tr>\n",
       "      <th>5</th>\n",
       "      <td>DestinyTheGame</td>\n",
       "      <td>What would you rank hand cannons for the crucible</td>\n",
       "      <td>My hand cannon ranking\\n\\nA. Steady hand, true...</td>\n",
       "      <td>1615996004</td>\n",
       "      <td>2021-03-17 11:46:44</td>\n",
       "    </tr>\n",
       "    <tr>\n",
       "      <th>6</th>\n",
       "      <td>DestinyTheGame</td>\n",
       "      <td>Constant Weasel</td>\n",
       "      <td>Since last week I have been getting weasel err...</td>\n",
       "      <td>1615995891</td>\n",
       "      <td>2021-03-17 11:44:51</td>\n",
       "    </tr>\n",
       "    <tr>\n",
       "      <th>7</th>\n",
       "      <td>DestinyTheGame</td>\n",
       "      <td>This game feels impenetrable for me as a new p...</td>\n",
       "      <td>After slowly making my way through a huge back...</td>\n",
       "      <td>1615995855</td>\n",
       "      <td>2021-03-17 11:44:15</td>\n",
       "    </tr>\n",
       "    <tr>\n",
       "      <th>8</th>\n",
       "      <td>DestinyTheGame</td>\n",
       "      <td>GM's being gated at 1325 power is pointless an...</td>\n",
       "      <td>Before we start lets get some things out of th...</td>\n",
       "      <td>1615995817</td>\n",
       "      <td>2021-03-17 11:43:37</td>\n",
       "    </tr>\n",
       "    <tr>\n",
       "      <th>9</th>\n",
       "      <td>DestinyTheGame</td>\n",
       "      <td>Aphelion's Rest ascendant challenge still no a...</td>\n",
       "      <td>title</td>\n",
       "      <td>1615995359</td>\n",
       "      <td>2021-03-17 11:35:59</td>\n",
       "    </tr>\n",
       "  </tbody>\n",
       "</table>\n",
       "</div>"
      ],
      "text/plain": [
       "        subreddit                                              title  \\\n",
       "0  DestinyTheGame  The infinite frostbite glitch in DSC has been ...   \n",
       "1  DestinyTheGame  Beyond Light Deluxe Edition weapon ornament fo...   \n",
       "2  DestinyTheGame  Add the Class-Specific Swords as Rewards for G...   \n",
       "3  DestinyTheGame     The Collector's Edition Sword is Still Sunset.   \n",
       "4  DestinyTheGame  The Darkness or Savathûn might be influencing ...   \n",
       "5  DestinyTheGame  What would you rank hand cannons for the crucible   \n",
       "6  DestinyTheGame                                    Constant Weasel   \n",
       "7  DestinyTheGame  This game feels impenetrable for me as a new p...   \n",
       "8  DestinyTheGame  GM's being gated at 1325 power is pointless an...   \n",
       "9  DestinyTheGame  Aphelion's Rest ascendant challenge still no a...   \n",
       "\n",
       "                                            selftext  created_utc  \\\n",
       "0  I hope you a[l](https://www.youtube.com/watch?...   1615996647   \n",
       "1  My ornament wont unlock even though I have the...   1615996597   \n",
       "2                                          [removed]   1615996546   \n",
       "3  Title. This is a problem, because it's a sword...   1615996218   \n",
       "4  After seeing the arguement at the Helm this re...   1615996158   \n",
       "5  My hand cannon ranking\\n\\nA. Steady hand, true...   1615996004   \n",
       "6  Since last week I have been getting weasel err...   1615995891   \n",
       "7  After slowly making my way through a huge back...   1615995855   \n",
       "8  Before we start lets get some things out of th...   1615995817   \n",
       "9                                              title   1615995359   \n",
       "\n",
       "      utc_to_datetime  \n",
       "0 2021-03-17 11:57:27  \n",
       "1 2021-03-17 11:56:37  \n",
       "2 2021-03-17 11:55:46  \n",
       "3 2021-03-17 11:50:18  \n",
       "4 2021-03-17 11:49:18  \n",
       "5 2021-03-17 11:46:44  \n",
       "6 2021-03-17 11:44:51  \n",
       "7 2021-03-17 11:44:15  \n",
       "8 2021-03-17 11:43:37  \n",
       "9 2021-03-17 11:35:59  "
      ]
     },
     "execution_count": 18,
     "metadata": {},
     "output_type": "execute_result"
    }
   ],
   "source": [
    "dest_reddit.head(10)"
   ]
  },
  {
   "cell_type": "code",
   "execution_count": 20,
   "id": "biological-crystal",
   "metadata": {},
   "outputs": [],
   "source": [
    "dest_reddit.to_csv('../data/dest_reddit.csv', index=False)"
   ]
  },
  {
   "cell_type": "code",
   "execution_count": null,
   "id": "biblical-construction",
   "metadata": {},
   "outputs": [],
   "source": []
  }
 ],
 "metadata": {
  "kernelspec": {
   "display_name": "Python 3",
   "language": "python",
   "name": "python3"
  },
  "language_info": {
   "codemirror_mode": {
    "name": "ipython",
    "version": 3
   },
   "file_extension": ".py",
   "mimetype": "text/x-python",
   "name": "python",
   "nbconvert_exporter": "python",
   "pygments_lexer": "ipython3",
   "version": "3.8.8"
  }
 },
 "nbformat": 4,
 "nbformat_minor": 5
}
