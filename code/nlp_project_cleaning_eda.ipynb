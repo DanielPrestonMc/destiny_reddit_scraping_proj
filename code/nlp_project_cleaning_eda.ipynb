{
 "cells": [
  {
   "cell_type": "markdown",
   "id": "underlying-entity",
   "metadata": {},
   "source": [
    "# **Project #3: Reddit NLP - Data Cleaning & EDA\n",
    "### DestinyTheGame vs. raidsecrets\n",
    "*By Daniel Preston McBride*"
   ]
  },
  {
   "cell_type": "markdown",
   "id": "juvenile-mirror",
   "metadata": {},
   "source": [
    "---"
   ]
  },
  {
   "cell_type": "code",
   "execution_count": 1,
   "id": "olympic-father",
   "metadata": {},
   "outputs": [],
   "source": [
    "import numpy as np\n",
    "import pandas as pd\n",
    "import matplotlib.pyplot as plt\n",
    "import seaborn as sns\n",
    "import requests\n",
    "import datetime\n",
    "import time\n",
    "\n",
    "from sklearn.model_selection import GridSearchCV, train_test_split\n",
    "from sklearn.metrics import plot_confusion_matrix\n",
    "from sklearn.neighbors import KNeighborsClassifier\n",
    "from bs4 import BeautifulSoup"
   ]
  },
  {
   "cell_type": "code",
   "execution_count": 2,
   "id": "dental-calibration",
   "metadata": {},
   "outputs": [],
   "source": [
    "dest_reddit = pd.read_csv('../data/dest_reddit.csv')\n",
    "raid_reddit = pd.read_csv('../data/raid_reddit.csv')"
   ]
  },
  {
   "cell_type": "code",
   "execution_count": 3,
   "id": "equipped-spank",
   "metadata": {},
   "outputs": [
    {
     "data": {
      "text/html": [
       "<div>\n",
       "<style scoped>\n",
       "    .dataframe tbody tr th:only-of-type {\n",
       "        vertical-align: middle;\n",
       "    }\n",
       "\n",
       "    .dataframe tbody tr th {\n",
       "        vertical-align: top;\n",
       "    }\n",
       "\n",
       "    .dataframe thead th {\n",
       "        text-align: right;\n",
       "    }\n",
       "</style>\n",
       "<table border=\"1\" class=\"dataframe\">\n",
       "  <thead>\n",
       "    <tr style=\"text-align: right;\">\n",
       "      <th></th>\n",
       "      <th>subreddit</th>\n",
       "      <th>title</th>\n",
       "      <th>selftext</th>\n",
       "      <th>created_utc</th>\n",
       "      <th>utc_to_datetime</th>\n",
       "    </tr>\n",
       "  </thead>\n",
       "  <tbody>\n",
       "    <tr>\n",
       "      <th>0</th>\n",
       "      <td>DestinyTheGame</td>\n",
       "      <td>The infinite frostbite glitch in DSC has been ...</td>\n",
       "      <td>I hope you a[l](https://www.youtube.com/watch?...</td>\n",
       "      <td>1615996647</td>\n",
       "      <td>2021-03-17 11:57:27</td>\n",
       "    </tr>\n",
       "    <tr>\n",
       "      <th>1</th>\n",
       "      <td>DestinyTheGame</td>\n",
       "      <td>Beyond Light Deluxe Edition weapon ornament fo...</td>\n",
       "      <td>My ornament wont unlock even though I have the...</td>\n",
       "      <td>1615996597</td>\n",
       "      <td>2021-03-17 11:56:37</td>\n",
       "    </tr>\n",
       "    <tr>\n",
       "      <th>2</th>\n",
       "      <td>DestinyTheGame</td>\n",
       "      <td>Add the Class-Specific Swords as Rewards for G...</td>\n",
       "      <td>[removed]</td>\n",
       "      <td>1615996546</td>\n",
       "      <td>2021-03-17 11:55:46</td>\n",
       "    </tr>\n",
       "    <tr>\n",
       "      <th>3</th>\n",
       "      <td>DestinyTheGame</td>\n",
       "      <td>The Collector's Edition Sword is Still Sunset.</td>\n",
       "      <td>Title. This is a problem, because it's a sword...</td>\n",
       "      <td>1615996218</td>\n",
       "      <td>2021-03-17 11:50:18</td>\n",
       "    </tr>\n",
       "    <tr>\n",
       "      <th>4</th>\n",
       "      <td>DestinyTheGame</td>\n",
       "      <td>The Darkness or Savathûn might be influencing ...</td>\n",
       "      <td>After seeing the arguement at the Helm this re...</td>\n",
       "      <td>1615996158</td>\n",
       "      <td>2021-03-17 11:49:18</td>\n",
       "    </tr>\n",
       "    <tr>\n",
       "      <th>...</th>\n",
       "      <td>...</td>\n",
       "      <td>...</td>\n",
       "      <td>...</td>\n",
       "      <td>...</td>\n",
       "      <td>...</td>\n",
       "    </tr>\n",
       "    <tr>\n",
       "      <th>1995</th>\n",
       "      <td>DestinyTheGame</td>\n",
       "      <td>Gambit desperately needs some work in its curr...</td>\n",
       "      <td>I have some suggestions, TL;DR below\\n\\n#Gambi...</td>\n",
       "      <td>1615687504</td>\n",
       "      <td>2021-03-13 21:05:04</td>\n",
       "    </tr>\n",
       "    <tr>\n",
       "      <th>1996</th>\n",
       "      <td>DestinyTheGame</td>\n",
       "      <td>A head canon story</td>\n",
       "      <td>I'd recommend reading this in the character's ...</td>\n",
       "      <td>1615687093</td>\n",
       "      <td>2021-03-13 20:58:13</td>\n",
       "    </tr>\n",
       "    <tr>\n",
       "      <th>1997</th>\n",
       "      <td>DestinyTheGame</td>\n",
       "      <td>A Banshee head canon story</td>\n",
       "      <td>[removed]</td>\n",
       "      <td>1615687060</td>\n",
       "      <td>2021-03-13 20:57:40</td>\n",
       "    </tr>\n",
       "    <tr>\n",
       "      <th>1998</th>\n",
       "      <td>DestinyTheGame</td>\n",
       "      <td>A Banshee head canon scene</td>\n",
       "      <td>[removed]</td>\n",
       "      <td>1615686978</td>\n",
       "      <td>2021-03-13 20:56:18</td>\n",
       "    </tr>\n",
       "    <tr>\n",
       "      <th>1999</th>\n",
       "      <td>DestinyTheGame</td>\n",
       "      <td>Head canon for why Banshee sold Wrath today</td>\n",
       "      <td>[removed]</td>\n",
       "      <td>1615686906</td>\n",
       "      <td>2021-03-13 20:55:06</td>\n",
       "    </tr>\n",
       "  </tbody>\n",
       "</table>\n",
       "<p>2000 rows × 5 columns</p>\n",
       "</div>"
      ],
      "text/plain": [
       "           subreddit                                              title  \\\n",
       "0     DestinyTheGame  The infinite frostbite glitch in DSC has been ...   \n",
       "1     DestinyTheGame  Beyond Light Deluxe Edition weapon ornament fo...   \n",
       "2     DestinyTheGame  Add the Class-Specific Swords as Rewards for G...   \n",
       "3     DestinyTheGame     The Collector's Edition Sword is Still Sunset.   \n",
       "4     DestinyTheGame  The Darkness or Savathûn might be influencing ...   \n",
       "...              ...                                                ...   \n",
       "1995  DestinyTheGame  Gambit desperately needs some work in its curr...   \n",
       "1996  DestinyTheGame                                 A head canon story   \n",
       "1997  DestinyTheGame                         A Banshee head canon story   \n",
       "1998  DestinyTheGame                         A Banshee head canon scene   \n",
       "1999  DestinyTheGame        Head canon for why Banshee sold Wrath today   \n",
       "\n",
       "                                               selftext  created_utc  \\\n",
       "0     I hope you a[l](https://www.youtube.com/watch?...   1615996647   \n",
       "1     My ornament wont unlock even though I have the...   1615996597   \n",
       "2                                             [removed]   1615996546   \n",
       "3     Title. This is a problem, because it's a sword...   1615996218   \n",
       "4     After seeing the arguement at the Helm this re...   1615996158   \n",
       "...                                                 ...          ...   \n",
       "1995  I have some suggestions, TL;DR below\\n\\n#Gambi...   1615687504   \n",
       "1996  I'd recommend reading this in the character's ...   1615687093   \n",
       "1997                                          [removed]   1615687060   \n",
       "1998                                          [removed]   1615686978   \n",
       "1999                                          [removed]   1615686906   \n",
       "\n",
       "          utc_to_datetime  \n",
       "0     2021-03-17 11:57:27  \n",
       "1     2021-03-17 11:56:37  \n",
       "2     2021-03-17 11:55:46  \n",
       "3     2021-03-17 11:50:18  \n",
       "4     2021-03-17 11:49:18  \n",
       "...                   ...  \n",
       "1995  2021-03-13 21:05:04  \n",
       "1996  2021-03-13 20:58:13  \n",
       "1997  2021-03-13 20:57:40  \n",
       "1998  2021-03-13 20:56:18  \n",
       "1999  2021-03-13 20:55:06  \n",
       "\n",
       "[2000 rows x 5 columns]"
      ]
     },
     "execution_count": 3,
     "metadata": {},
     "output_type": "execute_result"
    }
   ],
   "source": [
    "dest_reddit"
   ]
  },
  {
   "cell_type": "code",
   "execution_count": 4,
   "id": "american-craft",
   "metadata": {},
   "outputs": [
    {
     "data": {
      "text/html": [
       "<div>\n",
       "<style scoped>\n",
       "    .dataframe tbody tr th:only-of-type {\n",
       "        vertical-align: middle;\n",
       "    }\n",
       "\n",
       "    .dataframe tbody tr th {\n",
       "        vertical-align: top;\n",
       "    }\n",
       "\n",
       "    .dataframe thead th {\n",
       "        text-align: right;\n",
       "    }\n",
       "</style>\n",
       "<table border=\"1\" class=\"dataframe\">\n",
       "  <thead>\n",
       "    <tr style=\"text-align: right;\">\n",
       "      <th></th>\n",
       "      <th>subreddit</th>\n",
       "      <th>title</th>\n",
       "      <th>selftext</th>\n",
       "      <th>created_utc</th>\n",
       "      <th>utc_to_datetime</th>\n",
       "    </tr>\n",
       "  </thead>\n",
       "  <tbody>\n",
       "    <tr>\n",
       "      <th>0</th>\n",
       "      <td>raidsecrets</td>\n",
       "      <td>Bunker E15 Warmind cheese?</td>\n",
       "      <td>So i was running Legendary lost sector bunker ...</td>\n",
       "      <td>1615990366</td>\n",
       "      <td>2021-03-17 10:12:46</td>\n",
       "    </tr>\n",
       "    <tr>\n",
       "      <th>1</th>\n",
       "      <td>raidsecrets</td>\n",
       "      <td>I think the New Strike will be the longest yet.</td>\n",
       "      <td>So we know several requirements from the strik...</td>\n",
       "      <td>1615989805</td>\n",
       "      <td>2021-03-17 10:03:25</td>\n",
       "    </tr>\n",
       "    <tr>\n",
       "      <th>2</th>\n",
       "      <td>raidsecrets</td>\n",
       "      <td>New Frostbite glitch + jump section on Hunter ...</td>\n",
       "      <td>\\*Language Warning\\*\\n\\n[https://vimeo.com/man...</td>\n",
       "      <td>1615980660</td>\n",
       "      <td>2021-03-17 07:31:00</td>\n",
       "    </tr>\n",
       "    <tr>\n",
       "      <th>3</th>\n",
       "      <td>raidsecrets</td>\n",
       "      <td>Conqueror hidden triumph for gild?</td>\n",
       "      <td>Anyone know what it is? Can't find any informa...</td>\n",
       "      <td>1615967416</td>\n",
       "      <td>2021-03-17 03:50:16</td>\n",
       "    </tr>\n",
       "    <tr>\n",
       "      <th>4</th>\n",
       "      <td>raidsecrets</td>\n",
       "      <td>Full 2 Man GoS Possible ?</td>\n",
       "      <td>Recently with the introduction of stasis cryst...</td>\n",
       "      <td>1615952955</td>\n",
       "      <td>2021-03-16 23:49:15</td>\n",
       "    </tr>\n",
       "    <tr>\n",
       "      <th>...</th>\n",
       "      <td>...</td>\n",
       "      <td>...</td>\n",
       "      <td>...</td>\n",
       "      <td>...</td>\n",
       "      <td>...</td>\n",
       "    </tr>\n",
       "    <tr>\n",
       "      <th>1995</th>\n",
       "      <td>raidsecrets</td>\n",
       "      <td>Secret Mission in the new hawkmoon area (Spoil...</td>\n",
       "      <td>[removed]</td>\n",
       "      <td>1607461955</td>\n",
       "      <td>2020-12-08 16:12:35</td>\n",
       "    </tr>\n",
       "    <tr>\n",
       "      <th>1996</th>\n",
       "      <td>raidsecrets</td>\n",
       "      <td>\"Short Circuit\" Triumph (DSC Non-Weekly \"Desce...</td>\n",
       "      <td>As of today's update, the \"Short Circuit\" triu...</td>\n",
       "      <td>1607461768</td>\n",
       "      <td>2020-12-08 16:09:28</td>\n",
       "    </tr>\n",
       "    <tr>\n",
       "      <th>1997</th>\n",
       "      <td>raidsecrets</td>\n",
       "      <td>\"Short Circuit\" Triumph Post-Update (REQUIREME...</td>\n",
       "      <td>[deleted]</td>\n",
       "      <td>1607461708</td>\n",
       "      <td>2020-12-08 16:08:28</td>\n",
       "    </tr>\n",
       "    <tr>\n",
       "      <th>1998</th>\n",
       "      <td>raidsecrets</td>\n",
       "      <td>DSC Secrect Triumph shown on the app</td>\n",
       "      <td>[DSC Secrect Triumph](https://imgur.com/galler...</td>\n",
       "      <td>1607461666</td>\n",
       "      <td>2020-12-08 16:07:46</td>\n",
       "    </tr>\n",
       "    <tr>\n",
       "      <th>1999</th>\n",
       "      <td>raidsecrets</td>\n",
       "      <td>Was the secret area discovered (the one eso ma...</td>\n",
       "      <td>My theory is that if this is not the same area...</td>\n",
       "      <td>1607461571</td>\n",
       "      <td>2020-12-08 16:06:11</td>\n",
       "    </tr>\n",
       "  </tbody>\n",
       "</table>\n",
       "<p>2000 rows × 5 columns</p>\n",
       "</div>"
      ],
      "text/plain": [
       "        subreddit                                              title  \\\n",
       "0     raidsecrets                         Bunker E15 Warmind cheese?   \n",
       "1     raidsecrets    I think the New Strike will be the longest yet.   \n",
       "2     raidsecrets  New Frostbite glitch + jump section on Hunter ...   \n",
       "3     raidsecrets                 Conqueror hidden triumph for gild?   \n",
       "4     raidsecrets                          Full 2 Man GoS Possible ?   \n",
       "...           ...                                                ...   \n",
       "1995  raidsecrets  Secret Mission in the new hawkmoon area (Spoil...   \n",
       "1996  raidsecrets  \"Short Circuit\" Triumph (DSC Non-Weekly \"Desce...   \n",
       "1997  raidsecrets  \"Short Circuit\" Triumph Post-Update (REQUIREME...   \n",
       "1998  raidsecrets               DSC Secrect Triumph shown on the app   \n",
       "1999  raidsecrets  Was the secret area discovered (the one eso ma...   \n",
       "\n",
       "                                               selftext  created_utc  \\\n",
       "0     So i was running Legendary lost sector bunker ...   1615990366   \n",
       "1     So we know several requirements from the strik...   1615989805   \n",
       "2     \\*Language Warning\\*\\n\\n[https://vimeo.com/man...   1615980660   \n",
       "3     Anyone know what it is? Can't find any informa...   1615967416   \n",
       "4     Recently with the introduction of stasis cryst...   1615952955   \n",
       "...                                                 ...          ...   \n",
       "1995                                          [removed]   1607461955   \n",
       "1996  As of today's update, the \"Short Circuit\" triu...   1607461768   \n",
       "1997                                          [deleted]   1607461708   \n",
       "1998  [DSC Secrect Triumph](https://imgur.com/galler...   1607461666   \n",
       "1999  My theory is that if this is not the same area...   1607461571   \n",
       "\n",
       "          utc_to_datetime  \n",
       "0     2021-03-17 10:12:46  \n",
       "1     2021-03-17 10:03:25  \n",
       "2     2021-03-17 07:31:00  \n",
       "3     2021-03-17 03:50:16  \n",
       "4     2021-03-16 23:49:15  \n",
       "...                   ...  \n",
       "1995  2020-12-08 16:12:35  \n",
       "1996  2020-12-08 16:09:28  \n",
       "1997  2020-12-08 16:08:28  \n",
       "1998  2020-12-08 16:07:46  \n",
       "1999  2020-12-08 16:06:11  \n",
       "\n",
       "[2000 rows x 5 columns]"
      ]
     },
     "execution_count": 4,
     "metadata": {},
     "output_type": "execute_result"
    }
   ],
   "source": [
    "raid_reddit"
   ]
  },
  {
   "cell_type": "code",
   "execution_count": 5,
   "id": "parental-grenada",
   "metadata": {},
   "outputs": [],
   "source": [
    "reddit = pd.concat([dest_reddit, raid_reddit])"
   ]
  },
  {
   "cell_type": "code",
   "execution_count": 6,
   "id": "invalid-alabama",
   "metadata": {},
   "outputs": [
    {
     "name": "stdout",
     "output_type": "stream",
     "text": [
      "<class 'pandas.core.frame.DataFrame'>\n",
      "Int64Index: 4000 entries, 0 to 1999\n",
      "Data columns (total 5 columns):\n",
      " #   Column           Non-Null Count  Dtype \n",
      "---  ------           --------------  ----- \n",
      " 0   subreddit        4000 non-null   object\n",
      " 1   title            4000 non-null   object\n",
      " 2   selftext         3950 non-null   object\n",
      " 3   created_utc      4000 non-null   int64 \n",
      " 4   utc_to_datetime  4000 non-null   object\n",
      "dtypes: int64(1), object(4)\n",
      "memory usage: 187.5+ KB\n"
     ]
    }
   ],
   "source": [
    "reddit.info()"
   ]
  },
  {
   "cell_type": "markdown",
   "id": "southeast-perry",
   "metadata": {},
   "source": [
    "---\n",
    "### Investigating null values in the `selftext` column."
   ]
  },
  {
   "cell_type": "code",
   "execution_count": 10,
   "id": "amazing-semiconductor",
   "metadata": {},
   "outputs": [
    {
     "data": {
      "image/png": "[encoded data removed]",
      "text/plain": [
       "<Figure size 432x288 with 1 Axes>"
      ]
     },
     "metadata": {
      "needs_background": "light"
     },
     "output_type": "display_data"
    }
   ],
   "source": [
    "reddit[reddit['selftext'].isnull()][['subreddit']].value_counts().plot(kind='barh', linewidth=1, edgecolor='black')\n",
    "plt.title('Number of posts with null selftext');"
   ]
  },
  {
   "cell_type": "code",
   "execution_count": null,
   "id": "brown-manual",
   "metadata": {},
   "outputs": [],
   "source": [
    "plt.figure(figsize=(12,8))\n",
    "plt.bar()"
   ]
  },
  {
   "cell_type": "code",
   "execution_count": 8,
   "id": "placed-german",
   "metadata": {},
   "outputs": [],
   "source": [
    "reddit.dropna(inplace=True)"
   ]
  },
  {
   "cell_type": "markdown",
   "id": "worldwide-naples",
   "metadata": {},
   "source": [
    "---\n",
    "### Noticed previously that some `selftext` had been [removed] or [deleted].  Doing some exploring to see the distribution of removed and deleted `selftext` arcoss both subreddits."
   ]
  },
  {
   "cell_type": "code",
   "execution_count": 24,
   "id": "mobile-piece",
   "metadata": {},
   "outputs": [
    {
     "data": {
      "image/png": "[encoded data removed]",
      "text/plain": [
       "<Figure size 432x288 with 1 Axes>"
      ]
     },
     "metadata": {
      "needs_background": "light"
     },
     "output_type": "display_data"
    }
   ],
   "source": [
    "reddit[reddit['selftext']=='[removed]'][['subreddit']].value_counts().plot(kind='barh', color='red', linewidth=1, edgecolor='black')\n",
    "plt.title('Number of posts with [removed] selftext');"
   ]
  },
  {
   "cell_type": "markdown",
   "id": "aerial-membrane",
   "metadata": {},
   "source": [
    "> **Noticing a much higher number of posts on the `raidsecrets` have their selftext removed.  It seems like this forum is moderated to a much higher standard compared to the DestinyTheGame subreddit.**"
   ]
  },
  {
   "cell_type": "code",
   "execution_count": 20,
   "id": "grateful-church",
   "metadata": {},
   "outputs": [
    {
     "data": {
      "image/png": "[encoded data removed]",
      "text/plain": [
       "<Figure size 432x288 with 1 Axes>"
      ]
     },
     "metadata": {
      "needs_background": "light"
     },
     "output_type": "display_data"
    }
   ],
   "source": [
    "reddit[reddit['selftext']=='[deleted]'][['subreddit']].value_counts().plot(kind='barh', color='green', linewidth=1, edgecolor='black')\n",
    "plt.title('Number of posts with [deleted] selftext');"
   ]
  },
  {
   "cell_type": "markdown",
   "id": "certified-display",
   "metadata": {},
   "source": [
    "> **Subreddit Moderators have the power to remove posts, while users can choose to delete their own posts.  Referenced from: https://www.reddithelp.com/hc/en-us/articles/204533859-What-is-a-moderator-**"
   ]
  },
  {
   "cell_type": "code",
   "execution_count": 11,
   "id": "searching-celtic",
   "metadata": {},
   "outputs": [],
   "source": [
    "reddit.drop(index=reddit[reddit['selftext']=='[deleted]'].index, inplace=True)"
   ]
  },
  {
   "cell_type": "markdown",
   "id": "changing-yugoslavia",
   "metadata": {},
   "source": [
    "**Because the [removed] posts make up a significant portion of the raidsecrets subreddit AND the moderation level of the raidsecrets subreddit might help predicted that post came from raidsecrets, I decided to leave all the [removed] posts and drop all the rows where the selftext is [deleted]**"
   ]
  },
  {
   "cell_type": "code",
   "execution_count": 12,
   "id": "bridal-upset",
   "metadata": {},
   "outputs": [],
   "source": [
    "# reddit.drop(index=reddit[reddit['selftext']=='[removed]'].index, inplace=True)"
   ]
  },
  {
   "cell_type": "markdown",
   "id": "technological-court",
   "metadata": {},
   "source": [
    "**Decided NOT to remove the [removed] selftext entries (thought it was causing issues with my modeling).**"
   ]
  },
  {
   "cell_type": "code",
   "execution_count": 13,
   "id": "tight-seating",
   "metadata": {},
   "outputs": [
    {
     "name": "stdout",
     "output_type": "stream",
     "text": [
      "<class 'pandas.core.frame.DataFrame'>\n",
      "Int64Index: 3838 entries, 0 to 1999\n",
      "Data columns (total 5 columns):\n",
      " #   Column           Non-Null Count  Dtype \n",
      "---  ------           --------------  ----- \n",
      " 0   subreddit        3838 non-null   object\n",
      " 1   title            3838 non-null   object\n",
      " 2   selftext         3838 non-null   object\n",
      " 3   created_utc      3838 non-null   int64 \n",
      " 4   utc_to_datetime  3838 non-null   object\n",
      "dtypes: int64(1), object(4)\n",
      "memory usage: 179.9+ KB\n"
     ]
    }
   ],
   "source": [
    "reddit.info()"
   ]
  },
  {
   "cell_type": "markdown",
   "id": "durable-induction",
   "metadata": {},
   "source": [
    "---\n",
    "### Classifying the DestinyTheGame subreddit as 1 and raidsecrets as 0"
   ]
  },
  {
   "cell_type": "code",
   "execution_count": 22,
   "id": "engaging-suffering",
   "metadata": {},
   "outputs": [
    {
     "data": {
      "image/png": "[encoded data removed]",
      "text/plain": [
       "<Figure size 864x576 with 1 Axes>"
      ]
     },
     "metadata": {
      "needs_background": "light"
     },
     "output_type": "display_data"
    }
   ],
   "source": [
    "plt.figure(figsize=(12,8))\n",
    "reddit['subreddit'].value_counts().plot(kind='bar', linewidth=1, edgecolor='black')\n",
    "plt.xticks(rotation=0, size=20)\n",
    "plt.yticks(size=20)\n",
    "plt.title('Overall Number of Posts Per Subreddit', size=20);"
   ]
  },
  {
   "cell_type": "code",
   "execution_count": 44,
   "id": "adjustable-wages",
   "metadata": {},
   "outputs": [
    {
     "data": {
      "image/png": "[encoded data removed]",
      "text/plain": [
       "<Figure size 864x576 with 1 Axes>"
      ]
     },
     "metadata": {},
     "output_type": "display_data"
    }
   ],
   "source": [
    "plt.figure(figsize=(12,8))\n",
    "plt.pie(reddit['subreddit'].value_counts(), labels=['DestinyTheGame: 1941','Raidsecrets: 1897'], labeldistance=.5, shadow=True)\n",
    "plt.title('Overall Number of Posts Per Subreddit', size=20);"
   ]
  },
  {
   "cell_type": "code",
   "execution_count": 15,
   "id": "several-appeal",
   "metadata": {},
   "outputs": [],
   "source": [
    "reddit['subreddit'] = reddit['subreddit'].map({'DestinyTheGame': 1, 'raidsecrets': 0})"
   ]
  },
  {
   "cell_type": "code",
   "execution_count": 16,
   "id": "bacterial-midnight",
   "metadata": {},
   "outputs": [
    {
     "data": {
      "text/plain": [
       "1    1941\n",
       "0    1897\n",
       "Name: subreddit, dtype: int64"
      ]
     },
     "execution_count": 16,
     "metadata": {},
     "output_type": "execute_result"
    }
   ],
   "source": [
    "reddit['subreddit'].value_counts()"
   ]
  },
  {
   "cell_type": "markdown",
   "id": "studied-audio",
   "metadata": {},
   "source": [
    "---\n",
    "### Dropping the `created_utc` and `utc_to_datetime` columns since I don't need them for my model. (Only used them previously to verify I was scraping new data)"
   ]
  },
  {
   "cell_type": "code",
   "execution_count": 17,
   "id": "conceptual-freeware",
   "metadata": {},
   "outputs": [],
   "source": [
    "reddit.drop(columns=['created_utc', 'utc_to_datetime'], inplace=True)"
   ]
  },
  {
   "cell_type": "code",
   "execution_count": 18,
   "id": "framed-james",
   "metadata": {},
   "outputs": [
    {
     "name": "stdout",
     "output_type": "stream",
     "text": [
      "<class 'pandas.core.frame.DataFrame'>\n",
      "Int64Index: 3838 entries, 0 to 1999\n",
      "Data columns (total 3 columns):\n",
      " #   Column     Non-Null Count  Dtype \n",
      "---  ------     --------------  ----- \n",
      " 0   subreddit  3838 non-null   int64 \n",
      " 1   title      3838 non-null   object\n",
      " 2   selftext   3838 non-null   object\n",
      "dtypes: int64(1), object(2)\n",
      "memory usage: 119.9+ KB\n"
     ]
    }
   ],
   "source": [
    "reddit.info()"
   ]
  },
  {
   "cell_type": "code",
   "execution_count": 19,
   "id": "tested-insulation",
   "metadata": {},
   "outputs": [
    {
     "data": {
      "text/html": [
       "<div>\n",
       "<style scoped>\n",
       "    .dataframe tbody tr th:only-of-type {\n",
       "        vertical-align: middle;\n",
       "    }\n",
       "\n",
       "    .dataframe tbody tr th {\n",
       "        vertical-align: top;\n",
       "    }\n",
       "\n",
       "    .dataframe thead th {\n",
       "        text-align: right;\n",
       "    }\n",
       "</style>\n",
       "<table border=\"1\" class=\"dataframe\">\n",
       "  <thead>\n",
       "    <tr style=\"text-align: right;\">\n",
       "      <th></th>\n",
       "      <th>subreddit</th>\n",
       "      <th>title</th>\n",
       "      <th>selftext</th>\n",
       "    </tr>\n",
       "  </thead>\n",
       "  <tbody>\n",
       "    <tr>\n",
       "      <th>0</th>\n",
       "      <td>1</td>\n",
       "      <td>The infinite frostbite glitch in DSC has been ...</td>\n",
       "      <td>I hope you a[l](https://www.youtube.com/watch?...</td>\n",
       "    </tr>\n",
       "    <tr>\n",
       "      <th>1</th>\n",
       "      <td>1</td>\n",
       "      <td>Beyond Light Deluxe Edition weapon ornament fo...</td>\n",
       "      <td>My ornament wont unlock even though I have the...</td>\n",
       "    </tr>\n",
       "    <tr>\n",
       "      <th>2</th>\n",
       "      <td>1</td>\n",
       "      <td>Add the Class-Specific Swords as Rewards for G...</td>\n",
       "      <td>[removed]</td>\n",
       "    </tr>\n",
       "    <tr>\n",
       "      <th>3</th>\n",
       "      <td>1</td>\n",
       "      <td>The Collector's Edition Sword is Still Sunset.</td>\n",
       "      <td>Title. This is a problem, because it's a sword...</td>\n",
       "    </tr>\n",
       "    <tr>\n",
       "      <th>4</th>\n",
       "      <td>1</td>\n",
       "      <td>The Darkness or Savathûn might be influencing ...</td>\n",
       "      <td>After seeing the arguement at the Helm this re...</td>\n",
       "    </tr>\n",
       "  </tbody>\n",
       "</table>\n",
       "</div>"
      ],
      "text/plain": [
       "   subreddit                                              title  \\\n",
       "0          1  The infinite frostbite glitch in DSC has been ...   \n",
       "1          1  Beyond Light Deluxe Edition weapon ornament fo...   \n",
       "2          1  Add the Class-Specific Swords as Rewards for G...   \n",
       "3          1     The Collector's Edition Sword is Still Sunset.   \n",
       "4          1  The Darkness or Savathûn might be influencing ...   \n",
       "\n",
       "                                            selftext  \n",
       "0  I hope you a[l](https://www.youtube.com/watch?...  \n",
       "1  My ornament wont unlock even though I have the...  \n",
       "2                                          [removed]  \n",
       "3  Title. This is a problem, because it's a sword...  \n",
       "4  After seeing the arguement at the Helm this re...  "
      ]
     },
     "execution_count": 19,
     "metadata": {},
     "output_type": "execute_result"
    }
   ],
   "source": [
    "reddit.head()"
   ]
  },
  {
   "cell_type": "code",
   "execution_count": 20,
   "id": "international-venue",
   "metadata": {},
   "outputs": [],
   "source": [
    "reddit.to_csv('../data/reddit_data.csv', index=False)"
   ]
  },
  {
   "cell_type": "code",
   "execution_count": null,
   "id": "convenient-skiing",
   "metadata": {},
   "outputs": [],
   "source": []
  },
  {
   "cell_type": "code",
   "execution_count": null,
   "id": "civil-wallpaper",
   "metadata": {},
   "outputs": [],
   "source": []
  },
  {
   "cell_type": "code",
   "execution_count": null,
   "id": "elder-saying",
   "metadata": {},
   "outputs": [],
   "source": []
  },
  {
   "cell_type": "code",
   "execution_count": null,
   "id": "sustainable-landscape",
   "metadata": {},
   "outputs": [],
   "source": []
  }
 ],
 "metadata": {
  "kernelspec": {
   "display_name": "Python 3",
   "language": "python",
   "name": "python3"
  },
  "language_info": {
   "codemirror_mode": {
    "name": "ipython",
    "version": 3
   },
   "file_extension": ".py",
   "mimetype": "text/x-python",
   "name": "python",
   "nbconvert_exporter": "python",
   "pygments_lexer": "ipython3",
   "version": "3.8.8"
  }
 },
 "nbformat": 4,
 "nbformat_minor": 5
}
