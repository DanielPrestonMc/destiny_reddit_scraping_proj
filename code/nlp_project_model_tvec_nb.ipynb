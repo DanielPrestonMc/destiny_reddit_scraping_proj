{
 "cells": [
  {
   "cell_type": "markdown",
   "id": "under-williams",
   "metadata": {},
   "source": [
    "# **Project #3: Reddit NLP - TVEC/NB Model\n",
    "### DestinyTheGame vs. raidsecrets\n",
    "*By Daniel Preston McBride*"
   ]
  },
  {
   "cell_type": "code",
   "execution_count": 1,
   "id": "lovely-catch",
   "metadata": {},
   "outputs": [],
   "source": [
    "import numpy as np\n",
    "import pandas as pd\n",
    "import matplotlib.pyplot as plt\n",
    "import seaborn as sns\n",
    "import requests\n",
    "import datetime\n",
    "import time\n",
    "\n",
    "from sklearn.model_selection import GridSearchCV, train_test_split, cross_val_score\n",
    "from sklearn.metrics import plot_confusion_matrix, confusion_matrix\n",
    "from sklearn.neighbors import KNeighborsClassifier\n",
    "from sklearn.feature_extraction.text import CountVectorizer, TfidfVectorizer\n",
    "from sklearn.naive_bayes import MultinomialNB\n",
    "from sklearn.pipeline import Pipeline"
   ]
  },
  {
   "cell_type": "code",
   "execution_count": 2,
   "id": "loving-attack",
   "metadata": {},
   "outputs": [
    {
     "name": "stdout",
     "output_type": "stream",
     "text": [
      "<class 'pandas.core.frame.DataFrame'>\n",
      "RangeIndex: 3838 entries, 0 to 3837\n",
      "Data columns (total 3 columns):\n",
      " #   Column     Non-Null Count  Dtype \n",
      "---  ------     --------------  ----- \n",
      " 0   subreddit  3838 non-null   int64 \n",
      " 1   title      3838 non-null   object\n",
      " 2   selftext   3838 non-null   object\n",
      "dtypes: int64(1), object(2)\n",
      "memory usage: 90.1+ KB\n"
     ]
    }
   ],
   "source": [
    "reddit = pd.read_csv('../data/reddit_data.csv')\n",
    "reddit.info()"
   ]
  },
  {
   "cell_type": "markdown",
   "id": "private-welcome",
   "metadata": {},
   "source": [
    "---\n",
    "### Fitting X and y on train test split"
   ]
  },
  {
   "cell_type": "code",
   "execution_count": 3,
   "id": "short-ladder",
   "metadata": {},
   "outputs": [],
   "source": [
    "X = reddit['selftext']\n",
    "y = reddit['subreddit']"
   ]
  },
  {
   "cell_type": "code",
   "execution_count": 4,
   "id": "sustained-keyboard",
   "metadata": {},
   "outputs": [],
   "source": [
    "X_train, X_test, y_train, y_test = train_test_split(X, y, test_size=0.3, random_state=42, stratify=y)"
   ]
  },
  {
   "cell_type": "markdown",
   "id": "cooked-activity",
   "metadata": {},
   "source": [
    "---\n",
    "### Creating pipeline with transformer and estimater.  Passing the pipeline with designated hyperparameters through gridsearchCV.  Utilized an appending DataFrame to compare adjustments to hyperparameters for each model ran.\n",
    "*Referenced from 6.03-lesson-random-forest*"
   ]
  },
  {
   "cell_type": "code",
   "execution_count": 51,
   "id": "administrative-medicaid",
   "metadata": {},
   "outputs": [],
   "source": [
    "count = 0\n",
    "model_params = {}"
   ]
  },
  {
   "cell_type": "code",
   "execution_count": 67,
   "id": "bacterial-process",
   "metadata": {},
   "outputs": [
    {
     "name": "stdout",
     "output_type": "stream",
     "text": [
      "Fitting 5 folds for each of 1 candidates, totalling 5 fits\n"
     ]
    },
    {
     "data": {
      "text/html": [
       "<div>\n",
       "<style scoped>\n",
       "    .dataframe tbody tr th:only-of-type {\n",
       "        vertical-align: middle;\n",
       "    }\n",
       "\n",
       "    .dataframe tbody tr th {\n",
       "        vertical-align: top;\n",
       "    }\n",
       "\n",
       "    .dataframe thead th {\n",
       "        text-align: right;\n",
       "    }\n",
       "</style>\n",
       "<table border=\"1\" class=\"dataframe\">\n",
       "  <thead>\n",
       "    <tr style=\"text-align: right;\">\n",
       "      <th></th>\n",
       "      <th>tvec__max_df</th>\n",
       "      <th>tvec__max_features</th>\n",
       "      <th>tvec__min_df</th>\n",
       "      <th>tvec__ngram_range</th>\n",
       "      <th>tvec__stop_words</th>\n",
       "      <th>best_score</th>\n",
       "      <th>train_score</th>\n",
       "      <th>test_score</th>\n",
       "    </tr>\n",
       "  </thead>\n",
       "  <tbody>\n",
       "    <tr>\n",
       "      <th>model_1</th>\n",
       "      <td>0.83</td>\n",
       "      <td>3000</td>\n",
       "      <td>4</td>\n",
       "      <td>(1, 2)</td>\n",
       "      <td>None</td>\n",
       "      <td>0.815336</td>\n",
       "      <td>0.848846</td>\n",
       "      <td>0.812500</td>\n",
       "    </tr>\n",
       "    <tr>\n",
       "      <th>model_2</th>\n",
       "      <td>0.83</td>\n",
       "      <td>3000</td>\n",
       "      <td>4</td>\n",
       "      <td>(1, 2)</td>\n",
       "      <td>None</td>\n",
       "      <td>0.815336</td>\n",
       "      <td>0.848846</td>\n",
       "      <td>0.812500</td>\n",
       "    </tr>\n",
       "    <tr>\n",
       "      <th>model_3</th>\n",
       "      <td>0.81</td>\n",
       "      <td>3200</td>\n",
       "      <td>3</td>\n",
       "      <td>(1, 2)</td>\n",
       "      <td>english</td>\n",
       "      <td>0.815334</td>\n",
       "      <td>0.856292</td>\n",
       "      <td>0.806424</td>\n",
       "    </tr>\n",
       "    <tr>\n",
       "      <th>model_4</th>\n",
       "      <td>0.81</td>\n",
       "      <td>3200</td>\n",
       "      <td>3</td>\n",
       "      <td>(1, 2)</td>\n",
       "      <td>None</td>\n",
       "      <td>0.815708</td>\n",
       "      <td>0.851080</td>\n",
       "      <td>0.810764</td>\n",
       "    </tr>\n",
       "    <tr>\n",
       "      <th>model_5</th>\n",
       "      <td>0.79</td>\n",
       "      <td>3200</td>\n",
       "      <td>3</td>\n",
       "      <td>(1, 2)</td>\n",
       "      <td>None</td>\n",
       "      <td>0.815708</td>\n",
       "      <td>0.851080</td>\n",
       "      <td>0.810764</td>\n",
       "    </tr>\n",
       "    <tr>\n",
       "      <th>model_6</th>\n",
       "      <td>0.77</td>\n",
       "      <td>3300</td>\n",
       "      <td>4</td>\n",
       "      <td>(1, 2)</td>\n",
       "      <td>None</td>\n",
       "      <td>0.817198</td>\n",
       "      <td>0.851080</td>\n",
       "      <td>0.813368</td>\n",
       "    </tr>\n",
       "    <tr>\n",
       "      <th>model_7</th>\n",
       "      <td>0.75</td>\n",
       "      <td>3300</td>\n",
       "      <td>4</td>\n",
       "      <td>(1, 2)</td>\n",
       "      <td>None</td>\n",
       "      <td>0.817198</td>\n",
       "      <td>0.851080</td>\n",
       "      <td>0.813368</td>\n",
       "    </tr>\n",
       "    <tr>\n",
       "      <th>model_8</th>\n",
       "      <td>0.70</td>\n",
       "      <td>3300</td>\n",
       "      <td>4</td>\n",
       "      <td>(1, 2)</td>\n",
       "      <td>None</td>\n",
       "      <td>0.817198</td>\n",
       "      <td>0.851080</td>\n",
       "      <td>0.813368</td>\n",
       "    </tr>\n",
       "    <tr>\n",
       "      <th>model_9</th>\n",
       "      <td>0.70</td>\n",
       "      <td>3300</td>\n",
       "      <td>4</td>\n",
       "      <td>(1, 2)</td>\n",
       "      <td>None</td>\n",
       "      <td>0.817198</td>\n",
       "      <td>0.851080</td>\n",
       "      <td>0.813368</td>\n",
       "    </tr>\n",
       "    <tr>\n",
       "      <th>model_10</th>\n",
       "      <td>0.70</td>\n",
       "      <td>3300</td>\n",
       "      <td>4</td>\n",
       "      <td>(1, 2)</td>\n",
       "      <td>None</td>\n",
       "      <td>0.817198</td>\n",
       "      <td>0.851080</td>\n",
       "      <td>0.813368</td>\n",
       "    </tr>\n",
       "  </tbody>\n",
       "</table>\n",
       "</div>"
      ],
      "text/plain": [
       "          tvec__max_df  tvec__max_features  tvec__min_df tvec__ngram_range  \\\n",
       "model_1           0.83                3000             4            (1, 2)   \n",
       "model_2           0.83                3000             4            (1, 2)   \n",
       "model_3           0.81                3200             3            (1, 2)   \n",
       "model_4           0.81                3200             3            (1, 2)   \n",
       "model_5           0.79                3200             3            (1, 2)   \n",
       "model_6           0.77                3300             4            (1, 2)   \n",
       "model_7           0.75                3300             4            (1, 2)   \n",
       "model_8           0.70                3300             4            (1, 2)   \n",
       "model_9           0.70                3300             4            (1, 2)   \n",
       "model_10          0.70                3300             4            (1, 2)   \n",
       "\n",
       "         tvec__stop_words  best_score  train_score  test_score  \n",
       "model_1              None    0.815336     0.848846    0.812500  \n",
       "model_2              None    0.815336     0.848846    0.812500  \n",
       "model_3           english    0.815334     0.856292    0.806424  \n",
       "model_4              None    0.815708     0.851080    0.810764  \n",
       "model_5              None    0.815708     0.851080    0.810764  \n",
       "model_6              None    0.817198     0.851080    0.813368  \n",
       "model_7              None    0.817198     0.851080    0.813368  \n",
       "model_8              None    0.817198     0.851080    0.813368  \n",
       "model_9              None    0.817198     0.851080    0.813368  \n",
       "model_10             None    0.817198     0.851080    0.813368  "
      ]
     },
     "execution_count": 67,
     "metadata": {},
     "output_type": "execute_result"
    }
   ],
   "source": [
    "count = count\n",
    "model_params = model_params\n",
    "\n",
    "pipe = Pipeline([\n",
    "    ('tvec', TfidfVectorizer()),\n",
    "    ('nb', MultinomialNB())\n",
    "])\n",
    "\n",
    "params = {\n",
    "    'tvec__stop_words': [None],\n",
    "    'tvec__ngram_range': [(1,2)],\n",
    "    'tvec__max_features': [3300],\n",
    "    'tvec__max_df': [0.7],\n",
    "    'tvec__min_df': [4]\n",
    "}\n",
    "\n",
    "gs = GridSearchCV(estimator=pipe,\n",
    "                 param_grid=params,\n",
    "                 cv=5,\n",
    "                 verbose=1)\n",
    "\n",
    "gs.fit(X_train, y_train)\n",
    "\n",
    "count += 1\n",
    "\n",
    "gs.best_params_['best_score'] = gs.best_score_\n",
    "gs.best_params_['train_score'] = gs.score(X_train, y_train)\n",
    "gs.best_params_['test_score'] = gs.score(X_test, y_test)\n",
    "model_params[f'model_{count}'] = gs.best_params_\n",
    "\n",
    "model_df = pd.DataFrame.from_dict(model_params, orient='index')\n",
    "model_df"
   ]
  },
  {
   "cell_type": "code",
   "execution_count": 68,
   "id": "applicable-computer",
   "metadata": {},
   "outputs": [
    {
     "data": {
      "text/plain": [
       "{'tvec__max_df': 0.7,\n",
       " 'tvec__max_features': 3300,\n",
       " 'tvec__min_df': 4,\n",
       " 'tvec__ngram_range': (1, 2),\n",
       " 'tvec__stop_words': None,\n",
       " 'best_score': 0.8171979813503354,\n",
       " 'train_score': 0.8510796723752793,\n",
       " 'test_score': 0.8133680555555556}"
      ]
     },
     "execution_count": 68,
     "metadata": {},
     "output_type": "execute_result"
    }
   ],
   "source": [
    "gs.best_params_"
   ]
  },
  {
   "cell_type": "markdown",
   "id": "distinct-taxation",
   "metadata": {},
   "source": [
    "---\n",
    "### Checking scores against the baseline score; Visualizing probability metrics with confusion matrix"
   ]
  },
  {
   "cell_type": "code",
   "execution_count": 54,
   "id": "cutting-grocery",
   "metadata": {},
   "outputs": [
    {
     "data": {
      "text/plain": [
       "1    0.505732\n",
       "0    0.494268\n",
       "Name: subreddit, dtype: float64"
      ]
     },
     "execution_count": 54,
     "metadata": {},
     "output_type": "execute_result"
    }
   ],
   "source": [
    "y.value_counts(normalize=True)"
   ]
  },
  {
   "cell_type": "code",
   "execution_count": 66,
   "id": "metropolitan-phone",
   "metadata": {},
   "outputs": [
    {
     "data": {
      "image/png": "[encoded data removed]",
      "text/plain": [
       "<Figure size 432x288 with 2 Axes>"
      ]
     },
     "metadata": {
      "needs_background": "light"
     },
     "output_type": "display_data"
    }
   ],
   "source": [
    "plot_confusion_matrix(gs, X_test, y_test);"
   ]
  },
  {
   "cell_type": "code",
   "execution_count": null,
   "id": "persistent-standard",
   "metadata": {},
   "outputs": [],
   "source": []
  }
 ],
 "metadata": {
  "kernelspec": {
   "display_name": "Python 3",
   "language": "python",
   "name": "python3"
  },
  "language_info": {
   "codemirror_mode": {
    "name": "ipython",
    "version": 3
   },
   "file_extension": ".py",
   "mimetype": "text/x-python",
   "name": "python",
   "nbconvert_exporter": "python",
   "pygments_lexer": "ipython3",
   "version": "3.8.8"
  }
 },
 "nbformat": 4,
 "nbformat_minor": 5
}
