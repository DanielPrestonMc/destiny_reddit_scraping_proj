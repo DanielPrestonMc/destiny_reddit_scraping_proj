{
 "cells": [
  {
   "cell_type": "markdown",
   "id": "collected-value",
   "metadata": {},
   "source": [
    "# **Project #3: Reddit NLP - CVEC/RF Model\n",
    "### DestinyTheGame vs. raidsecrets\n",
    "*By Daniel Preston McBride*"
   ]
  },
  {
   "cell_type": "code",
   "execution_count": 1,
   "id": "excellent-bottom",
   "metadata": {},
   "outputs": [],
   "source": [
    "import numpy as np\n",
    "import pandas as pd\n",
    "import matplotlib.pyplot as plt\n",
    "import seaborn as sns\n",
    "import requests\n",
    "import datetime\n",
    "import time\n",
    "\n",
    "from sklearn.model_selection import GridSearchCV, train_test_split, cross_val_score\n",
    "from sklearn.metrics import plot_confusion_matrix, confusion_matrix\n",
    "from sklearn.pipeline import Pipeline\n",
    "from sklearn.ensemble import RandomForestClassifier, ExtraTreesClassifier\n",
    "from sklearn.feature_extraction.text import CountVectorizer"
   ]
  },
  {
   "cell_type": "code",
   "execution_count": 2,
   "id": "endless-think",
   "metadata": {},
   "outputs": [
    {
     "name": "stdout",
     "output_type": "stream",
     "text": [
      "<class 'pandas.core.frame.DataFrame'>\n",
      "RangeIndex: 3838 entries, 0 to 3837\n",
      "Data columns (total 3 columns):\n",
      " #   Column     Non-Null Count  Dtype \n",
      "---  ------     --------------  ----- \n",
      " 0   subreddit  3838 non-null   int64 \n",
      " 1   title      3838 non-null   object\n",
      " 2   selftext   3838 non-null   object\n",
      "dtypes: int64(1), object(2)\n",
      "memory usage: 90.1+ KB\n"
     ]
    }
   ],
   "source": [
    "reddit = pd.read_csv('../data/reddit_data.csv')\n",
    "reddit.info()"
   ]
  },
  {
   "cell_type": "markdown",
   "id": "colonial-candidate",
   "metadata": {},
   "source": [
    "---\n",
    "### Fitting X and y on train test split"
   ]
  },
  {
   "cell_type": "code",
   "execution_count": 3,
   "id": "provincial-victorian",
   "metadata": {},
   "outputs": [],
   "source": [
    "X = reddit['selftext']\n",
    "y = reddit['subreddit']"
   ]
  },
  {
   "cell_type": "code",
   "execution_count": 4,
   "id": "promising-relay",
   "metadata": {},
   "outputs": [],
   "source": [
    "X_train, X_test, y_train, y_test = train_test_split(X, y, test_size=0.3, random_state=42, stratify=y)"
   ]
  },
  {
   "cell_type": "markdown",
   "id": "romantic-sport",
   "metadata": {},
   "source": [
    "---\n",
    "### Creating pipeline with transformer and estimater.  Passing the pipeline with designated hyperparameters through gridsearchCV.  Utilized an appending DataFrame to compare adjustments to hyperparameters for each model ran.\n",
    "*Referenced from 6.03-lesson-random-forest*"
   ]
  },
  {
   "cell_type": "code",
   "execution_count": 5,
   "id": "vietnamese-timing",
   "metadata": {},
   "outputs": [],
   "source": [
    "count = 0\n",
    "model_params = {}"
   ]
  },
  {
   "cell_type": "code",
   "execution_count": 17,
   "id": "military-dining",
   "metadata": {},
   "outputs": [
    {
     "name": "stdout",
     "output_type": "stream",
     "text": [
      "Fitting 5 folds for each of 6 candidates, totalling 30 fits\n"
     ]
    },
    {
     "data": {
      "text/html": [
       "<div>\n",
       "<style scoped>\n",
       "    .dataframe tbody tr th:only-of-type {\n",
       "        vertical-align: middle;\n",
       "    }\n",
       "\n",
       "    .dataframe tbody tr th {\n",
       "        vertical-align: top;\n",
       "    }\n",
       "\n",
       "    .dataframe thead th {\n",
       "        text-align: right;\n",
       "    }\n",
       "</style>\n",
       "<table border=\"1\" class=\"dataframe\">\n",
       "  <thead>\n",
       "    <tr style=\"text-align: right;\">\n",
       "      <th></th>\n",
       "      <th>cvec__max_df</th>\n",
       "      <th>cvec__max_features</th>\n",
       "      <th>cvec__min_df</th>\n",
       "      <th>cvec__ngram_range</th>\n",
       "      <th>cvec__stop_words</th>\n",
       "      <th>rf__ccp_alpha</th>\n",
       "      <th>rf__max_depth</th>\n",
       "      <th>rf__max_features</th>\n",
       "      <th>rf__min_samples_leaf</th>\n",
       "      <th>rf__n_estimators</th>\n",
       "      <th>best_score</th>\n",
       "      <th>train_score</th>\n",
       "      <th>test_score</th>\n",
       "    </tr>\n",
       "  </thead>\n",
       "  <tbody>\n",
       "    <tr>\n",
       "      <th>model_1</th>\n",
       "      <td>0.85</td>\n",
       "      <td>2250</td>\n",
       "      <td>5</td>\n",
       "      <td>(1, 2)</td>\n",
       "      <td>english</td>\n",
       "      <td>0.001</td>\n",
       "      <td>5</td>\n",
       "      <td>auto</td>\n",
       "      <td>3</td>\n",
       "      <td>88</td>\n",
       "      <td>0.777359</td>\n",
       "      <td>0.783693</td>\n",
       "      <td>0.760417</td>\n",
       "    </tr>\n",
       "    <tr>\n",
       "      <th>model_2</th>\n",
       "      <td>0.85</td>\n",
       "      <td>2500</td>\n",
       "      <td>5</td>\n",
       "      <td>(1, 2)</td>\n",
       "      <td>english</td>\n",
       "      <td>0.001</td>\n",
       "      <td>5</td>\n",
       "      <td>auto</td>\n",
       "      <td>5</td>\n",
       "      <td>88</td>\n",
       "      <td>0.777733</td>\n",
       "      <td>0.786299</td>\n",
       "      <td>0.765625</td>\n",
       "    </tr>\n",
       "    <tr>\n",
       "      <th>model_3</th>\n",
       "      <td>0.85</td>\n",
       "      <td>2500</td>\n",
       "      <td>5</td>\n",
       "      <td>(1, 2)</td>\n",
       "      <td>english</td>\n",
       "      <td>0.001</td>\n",
       "      <td>5</td>\n",
       "      <td>auto</td>\n",
       "      <td>5</td>\n",
       "      <td>90</td>\n",
       "      <td>0.775500</td>\n",
       "      <td>0.788533</td>\n",
       "      <td>0.765625</td>\n",
       "    </tr>\n",
       "    <tr>\n",
       "      <th>model_4</th>\n",
       "      <td>0.90</td>\n",
       "      <td>2500</td>\n",
       "      <td>5</td>\n",
       "      <td>(1, 2)</td>\n",
       "      <td>english</td>\n",
       "      <td>0.001</td>\n",
       "      <td>5</td>\n",
       "      <td>auto</td>\n",
       "      <td>5</td>\n",
       "      <td>90</td>\n",
       "      <td>0.776246</td>\n",
       "      <td>0.780715</td>\n",
       "      <td>0.755208</td>\n",
       "    </tr>\n",
       "    <tr>\n",
       "      <th>model_5</th>\n",
       "      <td>0.85</td>\n",
       "      <td>2500</td>\n",
       "      <td>5</td>\n",
       "      <td>(1, 2)</td>\n",
       "      <td>english</td>\n",
       "      <td>0.001</td>\n",
       "      <td>5</td>\n",
       "      <td>auto</td>\n",
       "      <td>3</td>\n",
       "      <td>88</td>\n",
       "      <td>0.775874</td>\n",
       "      <td>0.775875</td>\n",
       "      <td>0.758681</td>\n",
       "    </tr>\n",
       "    <tr>\n",
       "      <th>model_6</th>\n",
       "      <td>0.80</td>\n",
       "      <td>2500</td>\n",
       "      <td>5</td>\n",
       "      <td>(1, 2)</td>\n",
       "      <td>english</td>\n",
       "      <td>0.001</td>\n",
       "      <td>5</td>\n",
       "      <td>auto</td>\n",
       "      <td>3</td>\n",
       "      <td>90</td>\n",
       "      <td>0.773641</td>\n",
       "      <td>0.781459</td>\n",
       "      <td>0.765625</td>\n",
       "    </tr>\n",
       "    <tr>\n",
       "      <th>model_7</th>\n",
       "      <td>0.80</td>\n",
       "      <td>2500</td>\n",
       "      <td>5</td>\n",
       "      <td>(1, 2)</td>\n",
       "      <td>english</td>\n",
       "      <td>0.001</td>\n",
       "      <td>5</td>\n",
       "      <td>auto</td>\n",
       "      <td>3</td>\n",
       "      <td>90</td>\n",
       "      <td>0.770290</td>\n",
       "      <td>0.769918</td>\n",
       "      <td>0.754340</td>\n",
       "    </tr>\n",
       "    <tr>\n",
       "      <th>model_8</th>\n",
       "      <td>0.80</td>\n",
       "      <td>2500</td>\n",
       "      <td>5</td>\n",
       "      <td>(1, 1)</td>\n",
       "      <td>english</td>\n",
       "      <td>0.001</td>\n",
       "      <td>5</td>\n",
       "      <td>auto</td>\n",
       "      <td>1</td>\n",
       "      <td>90</td>\n",
       "      <td>0.780342</td>\n",
       "      <td>0.781832</td>\n",
       "      <td>0.747396</td>\n",
       "    </tr>\n",
       "    <tr>\n",
       "      <th>model_9</th>\n",
       "      <td>0.80</td>\n",
       "      <td>2500</td>\n",
       "      <td>5</td>\n",
       "      <td>(1, 2)</td>\n",
       "      <td>english</td>\n",
       "      <td>0.001</td>\n",
       "      <td>5</td>\n",
       "      <td>auto</td>\n",
       "      <td>2</td>\n",
       "      <td>90</td>\n",
       "      <td>0.771783</td>\n",
       "      <td>0.782949</td>\n",
       "      <td>0.761285</td>\n",
       "    </tr>\n",
       "  </tbody>\n",
       "</table>\n",
       "</div>"
      ],
      "text/plain": [
       "         cvec__max_df  cvec__max_features  cvec__min_df cvec__ngram_range  \\\n",
       "model_1          0.85                2250             5            (1, 2)   \n",
       "model_2          0.85                2500             5            (1, 2)   \n",
       "model_3          0.85                2500             5            (1, 2)   \n",
       "model_4          0.90                2500             5            (1, 2)   \n",
       "model_5          0.85                2500             5            (1, 2)   \n",
       "model_6          0.80                2500             5            (1, 2)   \n",
       "model_7          0.80                2500             5            (1, 2)   \n",
       "model_8          0.80                2500             5            (1, 1)   \n",
       "model_9          0.80                2500             5            (1, 2)   \n",
       "\n",
       "        cvec__stop_words  rf__ccp_alpha  rf__max_depth rf__max_features  \\\n",
       "model_1          english          0.001              5             auto   \n",
       "model_2          english          0.001              5             auto   \n",
       "model_3          english          0.001              5             auto   \n",
       "model_4          english          0.001              5             auto   \n",
       "model_5          english          0.001              5             auto   \n",
       "model_6          english          0.001              5             auto   \n",
       "model_7          english          0.001              5             auto   \n",
       "model_8          english          0.001              5             auto   \n",
       "model_9          english          0.001              5             auto   \n",
       "\n",
       "         rf__min_samples_leaf  rf__n_estimators  best_score  train_score  \\\n",
       "model_1                     3                88    0.777359     0.783693   \n",
       "model_2                     5                88    0.777733     0.786299   \n",
       "model_3                     5                90    0.775500     0.788533   \n",
       "model_4                     5                90    0.776246     0.780715   \n",
       "model_5                     3                88    0.775874     0.775875   \n",
       "model_6                     3                90    0.773641     0.781459   \n",
       "model_7                     3                90    0.770290     0.769918   \n",
       "model_8                     1                90    0.780342     0.781832   \n",
       "model_9                     2                90    0.771783     0.782949   \n",
       "\n",
       "         test_score  \n",
       "model_1    0.760417  \n",
       "model_2    0.765625  \n",
       "model_3    0.765625  \n",
       "model_4    0.755208  \n",
       "model_5    0.758681  \n",
       "model_6    0.765625  \n",
       "model_7    0.754340  \n",
       "model_8    0.747396  \n",
       "model_9    0.761285  "
      ]
     },
     "execution_count": 17,
     "metadata": {},
     "output_type": "execute_result"
    }
   ],
   "source": [
    "count = count\n",
    "model_params = model_params\n",
    "\n",
    "pipe = Pipeline([\n",
    "    ('cvec', CountVectorizer()),\n",
    "    ('rf', RandomForestClassifier())\n",
    "])\n",
    "\n",
    "params = {\n",
    "    'cvec__stop_words': ['english'],\n",
    "    'cvec__ngram_range': [(1,2)],\n",
    "    'cvec__max_features': [2500],\n",
    "    'cvec__max_df': [0.8],\n",
    "    'cvec__min_df': [5],\n",
    "    'rf__n_estimators': [90],\n",
    "    'rf__max_features': ['auto'],\n",
    "    'rf__max_depth': [5],\n",
    "    'rf__min_samples_leaf': [2],\n",
    "    'rf__ccp_alpha': [0.001]\n",
    "}\n",
    "\n",
    "gs = GridSearchCV(estimator=pipe,\n",
    "                 param_grid=params,\n",
    "                 cv=5,\n",
    "                 verbose=1)\n",
    "\n",
    "gs.fit(X_train, y_train)\n",
    "\n",
    "count += 1\n",
    "\n",
    "gs.best_params_['best_score'] = gs.best_score_\n",
    "gs.best_params_['train_score'] = gs.score(X_train, y_train)\n",
    "gs.best_params_['test_score'] = gs.score(X_test, y_test)\n",
    "model_params[f'model_{count}'] = gs.best_params_\n",
    "\n",
    "model_df = pd.DataFrame.from_dict(model_params, orient='index')\n",
    "model_df"
   ]
  },
  {
   "cell_type": "code",
   "execution_count": 19,
   "id": "sexual-shower",
   "metadata": {},
   "outputs": [
    {
     "data": {
      "text/plain": [
       "{'cvec__max_df': 0.8,\n",
       " 'cvec__max_features': 2500,\n",
       " 'cvec__min_df': 5,\n",
       " 'cvec__ngram_range': (1, 2),\n",
       " 'cvec__stop_words': 'english',\n",
       " 'rf__ccp_alpha': 0.001,\n",
       " 'rf__max_depth': 5,\n",
       " 'rf__max_features': 'auto',\n",
       " 'rf__min_samples_leaf': 2,\n",
       " 'rf__n_estimators': 90,\n",
       " 'best_score': 0.7717825174970405,\n",
       " 'train_score': 0.7829486224869695,\n",
       " 'test_score': 0.7612847222222222}"
      ]
     },
     "execution_count": 19,
     "metadata": {},
     "output_type": "execute_result"
    }
   ],
   "source": [
    "gs.best_params_"
   ]
  },
  {
   "cell_type": "markdown",
   "id": "changed-torture",
   "metadata": {},
   "source": [
    "---\n",
    "### Checking scores against the baseline score; Visualizing probability metrics with confusion matrix"
   ]
  },
  {
   "cell_type": "code",
   "execution_count": 7,
   "id": "quiet-spectrum",
   "metadata": {},
   "outputs": [
    {
     "data": {
      "text/plain": [
       "1    0.505732\n",
       "0    0.494268\n",
       "Name: subreddit, dtype: float64"
      ]
     },
     "execution_count": 7,
     "metadata": {},
     "output_type": "execute_result"
    }
   ],
   "source": [
    "y.value_counts(normalize=True)"
   ]
  },
  {
   "cell_type": "code",
   "execution_count": 18,
   "id": "sustained-tuition",
   "metadata": {},
   "outputs": [
    {
     "data": {
      "image/png": "[encoded data removed]",
      "text/plain": [
       "<Figure size 432x288 with 2 Axes>"
      ]
     },
     "metadata": {
      "needs_background": "light"
     },
     "output_type": "display_data"
    }
   ],
   "source": [
    "plot_confusion_matrix(gs, X_test, y_test);"
   ]
  },
  {
   "cell_type": "code",
   "execution_count": null,
   "id": "trying-captain",
   "metadata": {},
   "outputs": [],
   "source": []
  }
 ],
 "metadata": {
  "kernelspec": {
   "display_name": "Python 3",
   "language": "python",
   "name": "python3"
  },
  "language_info": {
   "codemirror_mode": {
    "name": "ipython",
    "version": 3
   },
   "file_extension": ".py",
   "mimetype": "text/x-python",
   "name": "python",
   "nbconvert_exporter": "python",
   "pygments_lexer": "ipython3",
   "version": "3.8.8"
  }
 },
 "nbformat": 4,
 "nbformat_minor": 5
}
