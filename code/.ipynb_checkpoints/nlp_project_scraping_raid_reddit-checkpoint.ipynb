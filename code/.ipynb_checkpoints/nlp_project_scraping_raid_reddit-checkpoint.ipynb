{
 "cells": [
  {
   "cell_type": "markdown",
   "id": "driven-density",
   "metadata": {},
   "source": [
    "# **Project #3: Reddit NLP - Data Scraping Raidsecrets\n",
    "### DestinyTheGame vs. raidsecrets\n",
    "*By Daniel Preston McBride*"
   ]
  },
  {
   "cell_type": "code",
   "execution_count": 1,
   "id": "authentic-variation",
   "metadata": {},
   "outputs": [],
   "source": [
    "import numpy as np\n",
    "import pandas as pd\n",
    "import matplotlib.pyplot as plt\n",
    "import seaborn as sns\n",
    "import requests\n",
    "import datetime\n",
    "import time\n",
    "\n",
    "from sklearn.model_selection import GridSearchCV, train_test_split\n",
    "from sklearn.metrics import plot_confusion_matrix\n",
    "from sklearn.neighbors import KNeighborsClassifier\n",
    "from bs4 import BeautifulSoup"
   ]
  },
  {
   "cell_type": "markdown",
   "id": "isolated-digest",
   "metadata": {},
   "source": [
    "---\n",
    "### Accessing reddit data through pushshift API for Raidsecrets subreddit"
   ]
  },
  {
   "cell_type": "code",
   "execution_count": 2,
   "id": "facial-evaluation",
   "metadata": {},
   "outputs": [],
   "source": [
    "url = 'https://api.pushshift.io/reddit/search/submission'"
   ]
  },
  {
   "cell_type": "code",
   "execution_count": 3,
   "id": "novel-camera",
   "metadata": {},
   "outputs": [],
   "source": [
    "params = {\n",
    "    'subreddit': 'raidsecrets',\n",
    "    'size': 100\n",
    "}"
   ]
  },
  {
   "cell_type": "code",
   "execution_count": 4,
   "id": "honest-recruitment",
   "metadata": {},
   "outputs": [],
   "source": [
    "res = requests.get(url, params)"
   ]
  },
  {
   "cell_type": "code",
   "execution_count": 5,
   "id": "optical-fifty",
   "metadata": {},
   "outputs": [
    {
     "data": {
      "text/plain": [
       "200"
      ]
     },
     "execution_count": 5,
     "metadata": {},
     "output_type": "execute_result"
    }
   ],
   "source": [
    "res.status_code"
   ]
  },
  {
   "cell_type": "code",
   "execution_count": 6,
   "id": "environmental-status",
   "metadata": {},
   "outputs": [],
   "source": [
    "data = res.json()"
   ]
  },
  {
   "cell_type": "code",
   "execution_count": 7,
   "id": "accessible-government",
   "metadata": {},
   "outputs": [],
   "source": [
    "posts = data['data']"
   ]
  },
  {
   "cell_type": "code",
   "execution_count": 8,
   "id": "reduced-romance",
   "metadata": {},
   "outputs": [],
   "source": [
    "raid_reddit = pd.DataFrame(posts)"
   ]
  },
  {
   "cell_type": "code",
   "execution_count": 9,
   "id": "secret-principal",
   "metadata": {},
   "outputs": [],
   "source": [
    "raid_reddit = raid_reddit[['subreddit','title','selftext','created_utc']]"
   ]
  },
  {
   "cell_type": "code",
   "execution_count": 10,
   "id": "drawn-bundle",
   "metadata": {},
   "outputs": [
    {
     "name": "stdout",
     "output_type": "stream",
     "text": [
      "<class 'pandas.core.frame.DataFrame'>\n",
      "RangeIndex: 100 entries, 0 to 99\n",
      "Data columns (total 4 columns):\n",
      " #   Column       Non-Null Count  Dtype \n",
      "---  ------       --------------  ----- \n",
      " 0   subreddit    100 non-null    object\n",
      " 1   title        100 non-null    object\n",
      " 2   selftext     100 non-null    object\n",
      " 3   created_utc  100 non-null    int64 \n",
      "dtypes: int64(1), object(3)\n",
      "memory usage: 3.2+ KB\n"
     ]
    }
   ],
   "source": [
    "raid_reddit.info()"
   ]
  },
  {
   "cell_type": "code",
   "execution_count": 11,
   "id": "accurate-google",
   "metadata": {},
   "outputs": [
    {
     "data": {
      "text/html": [
       "<div>\n",
       "<style scoped>\n",
       "    .dataframe tbody tr th:only-of-type {\n",
       "        vertical-align: middle;\n",
       "    }\n",
       "\n",
       "    .dataframe tbody tr th {\n",
       "        vertical-align: top;\n",
       "    }\n",
       "\n",
       "    .dataframe thead th {\n",
       "        text-align: right;\n",
       "    }\n",
       "</style>\n",
       "<table border=\"1\" class=\"dataframe\">\n",
       "  <thead>\n",
       "    <tr style=\"text-align: right;\">\n",
       "      <th></th>\n",
       "      <th>subreddit</th>\n",
       "      <th>title</th>\n",
       "      <th>selftext</th>\n",
       "      <th>created_utc</th>\n",
       "    </tr>\n",
       "  </thead>\n",
       "  <tbody>\n",
       "    <tr>\n",
       "      <th>0</th>\n",
       "      <td>raidsecrets</td>\n",
       "      <td>Bunker E15 Warmind cheese?</td>\n",
       "      <td>So i was running Legendary lost sector bunker ...</td>\n",
       "      <td>1615990366</td>\n",
       "    </tr>\n",
       "    <tr>\n",
       "      <th>1</th>\n",
       "      <td>raidsecrets</td>\n",
       "      <td>I think the New Strike will be the longest yet.</td>\n",
       "      <td>So we know several requirements from the strik...</td>\n",
       "      <td>1615989805</td>\n",
       "    </tr>\n",
       "    <tr>\n",
       "      <th>2</th>\n",
       "      <td>raidsecrets</td>\n",
       "      <td>New Frostbite glitch + jump section on Hunter ...</td>\n",
       "      <td>\\*Language Warning\\*\\n\\n[https://vimeo.com/man...</td>\n",
       "      <td>1615980660</td>\n",
       "    </tr>\n",
       "    <tr>\n",
       "      <th>3</th>\n",
       "      <td>raidsecrets</td>\n",
       "      <td>Conqueror hidden triumph for gild?</td>\n",
       "      <td>Anyone know what it is? Can't find any informa...</td>\n",
       "      <td>1615967416</td>\n",
       "    </tr>\n",
       "    <tr>\n",
       "      <th>4</th>\n",
       "      <td>raidsecrets</td>\n",
       "      <td>Full 2 Man GoS Possible ?</td>\n",
       "      <td>Recently with the introduction of stasis cryst...</td>\n",
       "      <td>1615952955</td>\n",
       "    </tr>\n",
       "  </tbody>\n",
       "</table>\n",
       "</div>"
      ],
      "text/plain": [
       "     subreddit                                              title  \\\n",
       "0  raidsecrets                         Bunker E15 Warmind cheese?   \n",
       "1  raidsecrets    I think the New Strike will be the longest yet.   \n",
       "2  raidsecrets  New Frostbite glitch + jump section on Hunter ...   \n",
       "3  raidsecrets                 Conqueror hidden triumph for gild?   \n",
       "4  raidsecrets                          Full 2 Man GoS Possible ?   \n",
       "\n",
       "                                            selftext  created_utc  \n",
       "0  So i was running Legendary lost sector bunker ...   1615990366  \n",
       "1  So we know several requirements from the strik...   1615989805  \n",
       "2  \\*Language Warning\\*\\n\\n[https://vimeo.com/man...   1615980660  \n",
       "3  Anyone know what it is? Can't find any informa...   1615967416  \n",
       "4  Recently with the introduction of stasis cryst...   1615952955  "
      ]
     },
     "execution_count": 11,
     "metadata": {},
     "output_type": "execute_result"
    }
   ],
   "source": [
    "raid_reddit.head()"
   ]
  },
  {
   "cell_type": "code",
   "execution_count": 12,
   "id": "emotional-singing",
   "metadata": {},
   "outputs": [
    {
     "data": {
      "text/plain": [
       "100"
      ]
     },
     "execution_count": 12,
     "metadata": {},
     "output_type": "execute_result"
    }
   ],
   "source": [
    "raid_reddit.shape[0]"
   ]
  },
  {
   "cell_type": "markdown",
   "id": "random-potato",
   "metadata": {},
   "source": [
    "---\n",
    "### Created while loop to pull 100 posts every 5 seconds from the subreddit.  Accessed next older posts by utilizing the `before` hyperparameter on the `created_utc` timestamp column."
   ]
  },
  {
   "cell_type": "code",
   "execution_count": 13,
   "id": "handy-title",
   "metadata": {},
   "outputs": [],
   "source": [
    "while raid_reddit.shape[0] < 2000:\n",
    "    time.sleep(5)\n",
    "\n",
    "    params = {\n",
    "        'subreddit': 'raidsecrets',\n",
    "        'size': 100,\n",
    "        'before': raid_reddit['created_utc'].values[-1]\n",
    "    }\n",
    "\n",
    "    res = requests.get(url, params)\n",
    "    data = res.json()\n",
    "    posts = data['data']\n",
    "    df = pd.DataFrame(posts)\n",
    "    df = df[['subreddit','title','selftext','created_utc']]\n",
    "    raid_reddit = pd.concat([raid_reddit, df])"
   ]
  },
  {
   "cell_type": "code",
   "execution_count": 14,
   "id": "historical-aggregate",
   "metadata": {},
   "outputs": [
    {
     "data": {
      "text/plain": [
       "(2000, 4)"
      ]
     },
     "execution_count": 14,
     "metadata": {},
     "output_type": "execute_result"
    }
   ],
   "source": [
    "raid_reddit.shape"
   ]
  },
  {
   "cell_type": "markdown",
   "id": "greek-light",
   "metadata": {},
   "source": [
    "---\n",
    "### Checked for duplicate rows"
   ]
  },
  {
   "cell_type": "code",
   "execution_count": 15,
   "id": "elder-acquisition",
   "metadata": {},
   "outputs": [
    {
     "data": {
      "text/html": [
       "<div>\n",
       "<style scoped>\n",
       "    .dataframe tbody tr th:only-of-type {\n",
       "        vertical-align: middle;\n",
       "    }\n",
       "\n",
       "    .dataframe tbody tr th {\n",
       "        vertical-align: top;\n",
       "    }\n",
       "\n",
       "    .dataframe thead th {\n",
       "        text-align: right;\n",
       "    }\n",
       "</style>\n",
       "<table border=\"1\" class=\"dataframe\">\n",
       "  <thead>\n",
       "    <tr style=\"text-align: right;\">\n",
       "      <th></th>\n",
       "      <th>subreddit</th>\n",
       "      <th>title</th>\n",
       "      <th>selftext</th>\n",
       "      <th>created_utc</th>\n",
       "    </tr>\n",
       "  </thead>\n",
       "  <tbody>\n",
       "  </tbody>\n",
       "</table>\n",
       "</div>"
      ],
      "text/plain": [
       "Empty DataFrame\n",
       "Columns: [subreddit, title, selftext, created_utc]\n",
       "Index: []"
      ]
     },
     "execution_count": 15,
     "metadata": {},
     "output_type": "execute_result"
    }
   ],
   "source": [
    "raid_reddit[raid_reddit.duplicated()]"
   ]
  },
  {
   "cell_type": "markdown",
   "id": "indian-amazon",
   "metadata": {},
   "source": [
    "---\n",
    "### Created new column with `created_utc` column converted to datetime to better understand the date/time difference between each post\n",
    "\n",
    "> *Referenced converting utc to datetime from: https://www.kite.com/python/answers/how-to-convert-epoch-time-to-datetime-in-python*"
   ]
  },
  {
   "cell_type": "code",
   "execution_count": 16,
   "id": "swiss-portsmouth",
   "metadata": {},
   "outputs": [
    {
     "data": {
      "text/plain": [
       "0    2021-03-17 10:12:46\n",
       "1    2021-03-17 10:03:25\n",
       "2    2021-03-17 07:31:00\n",
       "3    2021-03-17 03:50:16\n",
       "4    2021-03-16 23:49:15\n",
       "             ...        \n",
       "95   2020-12-08 16:12:35\n",
       "96   2020-12-08 16:09:28\n",
       "97   2020-12-08 16:08:28\n",
       "98   2020-12-08 16:07:46\n",
       "99   2020-12-08 16:06:11\n",
       "Name: utc_to_datetime, Length: 2000, dtype: datetime64[ns]"
      ]
     },
     "execution_count": 16,
     "metadata": {},
     "output_type": "execute_result"
    }
   ],
   "source": [
    "raid_reddit['utc_to_datetime'] = [datetime.datetime.fromtimestamp(utc) for utc in raid_reddit['created_utc']]\n",
    "raid_reddit['utc_to_datetime']"
   ]
  },
  {
   "cell_type": "code",
   "execution_count": 17,
   "id": "blocked-mercury",
   "metadata": {},
   "outputs": [
    {
     "name": "stdout",
     "output_type": "stream",
     "text": [
      "<class 'pandas.core.frame.DataFrame'>\n",
      "Int64Index: 2000 entries, 0 to 99\n",
      "Data columns (total 5 columns):\n",
      " #   Column           Non-Null Count  Dtype         \n",
      "---  ------           --------------  -----         \n",
      " 0   subreddit        2000 non-null   object        \n",
      " 1   title            2000 non-null   object        \n",
      " 2   selftext         1953 non-null   object        \n",
      " 3   created_utc      2000 non-null   int64         \n",
      " 4   utc_to_datetime  2000 non-null   datetime64[ns]\n",
      "dtypes: datetime64[ns](1), int64(1), object(3)\n",
      "memory usage: 93.8+ KB\n"
     ]
    }
   ],
   "source": [
    "raid_reddit.info()"
   ]
  },
  {
   "cell_type": "code",
   "execution_count": 18,
   "id": "adolescent-animal",
   "metadata": {},
   "outputs": [
    {
     "data": {
      "text/html": [
       "<div>\n",
       "<style scoped>\n",
       "    .dataframe tbody tr th:only-of-type {\n",
       "        vertical-align: middle;\n",
       "    }\n",
       "\n",
       "    .dataframe tbody tr th {\n",
       "        vertical-align: top;\n",
       "    }\n",
       "\n",
       "    .dataframe thead th {\n",
       "        text-align: right;\n",
       "    }\n",
       "</style>\n",
       "<table border=\"1\" class=\"dataframe\">\n",
       "  <thead>\n",
       "    <tr style=\"text-align: right;\">\n",
       "      <th></th>\n",
       "      <th>subreddit</th>\n",
       "      <th>title</th>\n",
       "      <th>selftext</th>\n",
       "      <th>created_utc</th>\n",
       "      <th>utc_to_datetime</th>\n",
       "    </tr>\n",
       "  </thead>\n",
       "  <tbody>\n",
       "    <tr>\n",
       "      <th>0</th>\n",
       "      <td>raidsecrets</td>\n",
       "      <td>Bunker E15 Warmind cheese?</td>\n",
       "      <td>So i was running Legendary lost sector bunker ...</td>\n",
       "      <td>1615990366</td>\n",
       "      <td>2021-03-17 10:12:46</td>\n",
       "    </tr>\n",
       "    <tr>\n",
       "      <th>1</th>\n",
       "      <td>raidsecrets</td>\n",
       "      <td>I think the New Strike will be the longest yet.</td>\n",
       "      <td>So we know several requirements from the strik...</td>\n",
       "      <td>1615989805</td>\n",
       "      <td>2021-03-17 10:03:25</td>\n",
       "    </tr>\n",
       "    <tr>\n",
       "      <th>2</th>\n",
       "      <td>raidsecrets</td>\n",
       "      <td>New Frostbite glitch + jump section on Hunter ...</td>\n",
       "      <td>\\*Language Warning\\*\\n\\n[https://vimeo.com/man...</td>\n",
       "      <td>1615980660</td>\n",
       "      <td>2021-03-17 07:31:00</td>\n",
       "    </tr>\n",
       "    <tr>\n",
       "      <th>3</th>\n",
       "      <td>raidsecrets</td>\n",
       "      <td>Conqueror hidden triumph for gild?</td>\n",
       "      <td>Anyone know what it is? Can't find any informa...</td>\n",
       "      <td>1615967416</td>\n",
       "      <td>2021-03-17 03:50:16</td>\n",
       "    </tr>\n",
       "    <tr>\n",
       "      <th>4</th>\n",
       "      <td>raidsecrets</td>\n",
       "      <td>Full 2 Man GoS Possible ?</td>\n",
       "      <td>Recently with the introduction of stasis cryst...</td>\n",
       "      <td>1615952955</td>\n",
       "      <td>2021-03-16 23:49:15</td>\n",
       "    </tr>\n",
       "    <tr>\n",
       "      <th>5</th>\n",
       "      <td>raidsecrets</td>\n",
       "      <td>Did I Find the Winnower's Blade?</td>\n",
       "      <td>If you don't want to read my thesis I have thi...</td>\n",
       "      <td>1615945143</td>\n",
       "      <td>2021-03-16 21:39:03</td>\n",
       "    </tr>\n",
       "    <tr>\n",
       "      <th>6</th>\n",
       "      <td>raidsecrets</td>\n",
       "      <td>Presage voices triggering further inside the s...</td>\n",
       "      <td>Over the weeks, the first voiceline (the one w...</td>\n",
       "      <td>1615939686</td>\n",
       "      <td>2021-03-16 20:08:06</td>\n",
       "    </tr>\n",
       "    <tr>\n",
       "      <th>7</th>\n",
       "      <td>raidsecrets</td>\n",
       "      <td>Fast Seasonal Challenges Week 6</td>\n",
       "      <td>[removed]</td>\n",
       "      <td>1615934769</td>\n",
       "      <td>2021-03-16 18:46:09</td>\n",
       "    </tr>\n",
       "    <tr>\n",
       "      <th>8</th>\n",
       "      <td>raidsecrets</td>\n",
       "      <td>Secret symbol near Future War Cult room or jus...</td>\n",
       "      <td>Hey guys. I was walking around in the tower be...</td>\n",
       "      <td>1615932731</td>\n",
       "      <td>2021-03-16 18:12:11</td>\n",
       "    </tr>\n",
       "    <tr>\n",
       "      <th>9</th>\n",
       "      <td>raidsecrets</td>\n",
       "      <td>New Infinite Frostbite After Patch Glitch</td>\n",
       "      <td>[https://youtu.be/1mJbYOAUIwE](https://youtu.b...</td>\n",
       "      <td>1615925671</td>\n",
       "      <td>2021-03-16 16:14:31</td>\n",
       "    </tr>\n",
       "  </tbody>\n",
       "</table>\n",
       "</div>"
      ],
      "text/plain": [
       "     subreddit                                              title  \\\n",
       "0  raidsecrets                         Bunker E15 Warmind cheese?   \n",
       "1  raidsecrets    I think the New Strike will be the longest yet.   \n",
       "2  raidsecrets  New Frostbite glitch + jump section on Hunter ...   \n",
       "3  raidsecrets                 Conqueror hidden triumph for gild?   \n",
       "4  raidsecrets                          Full 2 Man GoS Possible ?   \n",
       "5  raidsecrets                   Did I Find the Winnower's Blade?   \n",
       "6  raidsecrets  Presage voices triggering further inside the s...   \n",
       "7  raidsecrets                    Fast Seasonal Challenges Week 6   \n",
       "8  raidsecrets  Secret symbol near Future War Cult room or jus...   \n",
       "9  raidsecrets          New Infinite Frostbite After Patch Glitch   \n",
       "\n",
       "                                            selftext  created_utc  \\\n",
       "0  So i was running Legendary lost sector bunker ...   1615990366   \n",
       "1  So we know several requirements from the strik...   1615989805   \n",
       "2  \\*Language Warning\\*\\n\\n[https://vimeo.com/man...   1615980660   \n",
       "3  Anyone know what it is? Can't find any informa...   1615967416   \n",
       "4  Recently with the introduction of stasis cryst...   1615952955   \n",
       "5  If you don't want to read my thesis I have thi...   1615945143   \n",
       "6  Over the weeks, the first voiceline (the one w...   1615939686   \n",
       "7                                          [removed]   1615934769   \n",
       "8  Hey guys. I was walking around in the tower be...   1615932731   \n",
       "9  [https://youtu.be/1mJbYOAUIwE](https://youtu.b...   1615925671   \n",
       "\n",
       "      utc_to_datetime  \n",
       "0 2021-03-17 10:12:46  \n",
       "1 2021-03-17 10:03:25  \n",
       "2 2021-03-17 07:31:00  \n",
       "3 2021-03-17 03:50:16  \n",
       "4 2021-03-16 23:49:15  \n",
       "5 2021-03-16 21:39:03  \n",
       "6 2021-03-16 20:08:06  \n",
       "7 2021-03-16 18:46:09  \n",
       "8 2021-03-16 18:12:11  \n",
       "9 2021-03-16 16:14:31  "
      ]
     },
     "execution_count": 18,
     "metadata": {},
     "output_type": "execute_result"
    }
   ],
   "source": [
    "raid_reddit.head(10)"
   ]
  },
  {
   "cell_type": "code",
   "execution_count": 19,
   "id": "recovered-wheat",
   "metadata": {},
   "outputs": [],
   "source": [
    "raid_reddit.to_csv('../data/raid_reddit.csv', index=False)"
   ]
  },
  {
   "cell_type": "code",
   "execution_count": null,
   "id": "substantial-circular",
   "metadata": {},
   "outputs": [],
   "source": []
  }
 ],
 "metadata": {
  "kernelspec": {
   "display_name": "Python 3",
   "language": "python",
   "name": "python3"
  },
  "language_info": {
   "codemirror_mode": {
    "name": "ipython",
    "version": 3
   },
   "file_extension": ".py",
   "mimetype": "text/x-python",
   "name": "python",
   "nbconvert_exporter": "python",
   "pygments_lexer": "ipython3",
   "version": "3.8.8"
  }
 },
 "nbformat": 4,
 "nbformat_minor": 5
}
